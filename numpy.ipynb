{
 "cells": [
  {
   "cell_type": "code",
   "execution_count": 6,
   "id": "ed1c8c06-3ecc-4631-b69a-0678219e7cc8",
   "metadata": {},
   "outputs": [
    {
     "name": "stdout",
     "output_type": "stream",
     "text": [
      "Requirement already satisfied: numpy in d:\\development\\python\\jupyter-notebook\\venv\\lib\\site-packages (2.3.2)\n",
      "Note: you may need to restart the kernel to use updated packages.\n"
     ]
    },
    {
     "name": "stderr",
     "output_type": "stream",
     "text": [
      "\n",
      "[notice] A new release of pip is available: 25.1.1 -> 25.2\n",
      "[notice] To update, run: python.exe -m pip install --upgrade pip\n"
     ]
    }
   ],
   "source": [
    "pip install numpy"
   ]
  },
  {
   "cell_type": "code",
   "execution_count": 7,
   "id": "4ca5eb75-702b-4ad1-b652-96f47e363c15",
   "metadata": {},
   "outputs": [],
   "source": [
    "import numpy as np\n",
    "a = np.array(92)\n",
    "b = np.array([1, 2, 3, 4, 5])\n",
    "c = np.array([[1, 2, 3], [4, 5, 6]])\n",
    "x = np.array([[1, 2, 3], [4, 5, 6], [7, 8, 9]])"
   ]
  },
  {
   "cell_type": "code",
   "execution_count": 8,
   "id": "eeb18df5-382a-45ad-92cb-8b025c824843",
   "metadata": {},
   "outputs": [
    {
     "name": "stdout",
     "output_type": "stream",
     "text": [
      "92\n",
      "Dimension = 0\n"
     ]
    }
   ],
   "source": [
    "print(a)\n",
    "print(\"Dimension =\", a.ndim)"
   ]
  },
  {
   "cell_type": "code",
   "execution_count": 9,
   "id": "1cae6382-962a-4a18-96f9-a547414f7dd4",
   "metadata": {},
   "outputs": [
    {
     "name": "stdout",
     "output_type": "stream",
     "text": [
      "[1 2 3 4 5]\n",
      "Dimension = 1\n"
     ]
    }
   ],
   "source": [
    "print(b)\n",
    "print(\"Dimension =\", b.ndim)"
   ]
  },
  {
   "cell_type": "code",
   "execution_count": 10,
   "id": "fba67791-d982-48c3-b072-295df84e2240",
   "metadata": {},
   "outputs": [
    {
     "name": "stdout",
     "output_type": "stream",
     "text": [
      "[1. 2. 3.]\n"
     ]
    }
   ],
   "source": [
    "#dtype parameter\n",
    "\n",
    "import numpy as np\n",
    "a = np.array([1, 2, 3], dtype = float) # float , str\n",
    "\n",
    "print(a)"
   ]
  },
  {
   "cell_type": "code",
   "execution_count": 11,
   "id": "18d5636e-ab1e-443d-822e-a70fe7ecf2e5",
   "metadata": {},
   "outputs": [
    {
     "name": "stdout",
     "output_type": "stream",
     "text": [
      "c =\n",
      " [[1 2 3]\n",
      " [4 5 6]]\n"
     ]
    }
   ],
   "source": [
    "import numpy as np\n",
    "\n",
    "c = np.array([[1, 2, 3], [4, 5, 6]])\n",
    "print(\"c =\" + \"\\n\", c)"
   ]
  },
  {
   "cell_type": "code",
   "execution_count": 12,
   "id": "bcb892fc-37d2-40eb-ab89-0eaf550fbc34",
   "metadata": {},
   "outputs": [
    {
     "name": "stdout",
     "output_type": "stream",
     "text": [
      "[ 11  12  13  14  15  60  70  80  90 100]\n"
     ]
    }
   ],
   "source": [
    "import numpy as np\n",
    "x = np.array([11, 12, 13, 14, 15, 60, 70, 80, 90, 100])\n",
    "print(x)"
   ]
  },
  {
   "cell_type": "code",
   "execution_count": 13,
   "id": "df126c1e-54a5-403b-8ba8-4554fc8736e1",
   "metadata": {},
   "outputs": [
    {
     "name": "stdout",
     "output_type": "stream",
     "text": [
      "[14 14 12 90]\n"
     ]
    }
   ],
   "source": [
    "z = x[np.array([3, 3, 1, 8])] #location values\n",
    "print(z)"
   ]
  },
  {
   "cell_type": "code",
   "execution_count": 15,
   "id": "21653aec-3ee8-4740-a31d-ea8d02202dec",
   "metadata": {},
   "outputs": [
    {
     "data": {
      "text/plain": [
       "matrix([[ 1,  2,  3,  4,  5],\n",
       "        [ 5,  6,  7,  8,  9],\n",
       "        [ 2, 45, 32, 78, 65],\n",
       "        [ 3,  6,  8,  9,  2],\n",
       "        [66, 99, 88, 33, 22]])"
      ]
     },
     "execution_count": 15,
     "metadata": {},
     "output_type": "execute_result"
    }
   ],
   "source": [
    "d = [1, 2, 3, 4, 5]\n",
    "e = [5, 6, 7, 8, 9]\n",
    "f = [2, 45, 32, 78, 65]\n",
    "g = [3, 6, 8, 9, 2]\n",
    "h = [66, 99, 88, 33, 22]\n",
    "my_matrices = np.matrix([d, e, f, g, h])\n",
    "my_matrices"
   ]
  },
  {
   "cell_type": "code",
   "execution_count": 16,
   "id": "39c745c2-4cd9-4a37-999b-8fcb8dc2c042",
   "metadata": {},
   "outputs": [
    {
     "data": {
      "text/plain": [
       "matrix([[ 7,  8,  9],\n",
       "        [32, 78, 65],\n",
       "        [ 8,  9,  2]])"
      ]
     },
     "execution_count": 16,
     "metadata": {},
     "output_type": "execute_result"
    }
   ],
   "source": [
    "my_matrices[1:4, 2:5]"
   ]
  },
  {
   "cell_type": "code",
   "execution_count": 18,
   "id": "d339f856-4058-4d26-b62b-59563674da91",
   "metadata": {},
   "outputs": [
    {
     "name": "stdout",
     "output_type": "stream",
     "text": [
      "list = [[1, 2, 3], [4, 5, 6], [7, 8, 9]]\n",
      "numpy_array = \n",
      " [[1 2 3]\n",
      " [4 5 6]\n",
      " [7 8 9]]\n"
     ]
    }
   ],
   "source": [
    "li = [[1, 2, 3], [4, 5, 6], [7, 8, 9]]\n",
    "ar = np.array(li)\n",
    "print(\"list =\", li)\n",
    "print(\"numpy_array = \" + \"\\n\", ar)"
   ]
  },
  {
   "cell_type": "code",
   "execution_count": 19,
   "id": "0ad151f5-236a-44d7-9086-e2da8bad342c",
   "metadata": {},
   "outputs": [
    {
     "data": {
      "text/plain": [
       "list"
      ]
     },
     "execution_count": 19,
     "metadata": {},
     "output_type": "execute_result"
    }
   ],
   "source": [
    "type(li)"
   ]
  },
  {
   "cell_type": "code",
   "execution_count": 20,
   "id": "c42fc5f3-8b9e-4bed-8c75-416992d788c5",
   "metadata": {},
   "outputs": [
    {
     "data": {
      "text/plain": [
       "numpy.ndarray"
      ]
     },
     "execution_count": 20,
     "metadata": {},
     "output_type": "execute_result"
    }
   ],
   "source": [
    "type(ar)"
   ]
  },
  {
   "cell_type": "code",
   "execution_count": 21,
   "id": "d5499f39-a268-460b-94d7-f7e300c1c456",
   "metadata": {},
   "outputs": [
    {
     "data": {
      "text/plain": [
       "[[1, 2, 3], [4, 5, 6], [7, 8, 9], [1, 2, 3], [4, 5, 6], [7, 8, 9]]"
      ]
     },
     "execution_count": 21,
     "metadata": {},
     "output_type": "execute_result"
    }
   ],
   "source": [
    "li + li"
   ]
  },
  {
   "cell_type": "code",
   "execution_count": 22,
   "id": "66c7bb5a-d976-4b6e-92ac-4b7dfb49a46c",
   "metadata": {},
   "outputs": [
    {
     "data": {
      "text/plain": [
       "array([[ 2,  4,  6],\n",
       "       [ 8, 10, 12],\n",
       "       [14, 16, 18]])"
      ]
     },
     "execution_count": 22,
     "metadata": {},
     "output_type": "execute_result"
    }
   ],
   "source": [
    "ar + ar"
   ]
  },
  {
   "cell_type": "code",
   "execution_count": 24,
   "id": "f36f4813-8ffb-4dc1-8ce2-efafee51df7b",
   "metadata": {},
   "outputs": [
    {
     "name": "stdout",
     "output_type": "stream",
     "text": [
      "[3 4 5 6 8]\n"
     ]
    }
   ],
   "source": [
    "import numpy as np\n",
    "k = np.array([3, 4, 5, 6, 8])\n",
    "print(k)"
   ]
  },
  {
   "cell_type": "code",
   "execution_count": 27,
   "id": "bb0454b0-7c43-4650-991a-df47740ace6e",
   "metadata": {},
   "outputs": [
    {
     "name": "stdout",
     "output_type": "stream",
     "text": [
      "[ 3  4 90  6  8]\n",
      "modified array = [ 3  4 90  6  8]\n"
     ]
    }
   ],
   "source": [
    "copy1 = k.copy()\n",
    "view1 = k.view()\n",
    "\n",
    "k[2] = 90\n",
    "print(k)\n",
    "print(f\"modified array = {view1}\")"
   ]
  },
  {
   "cell_type": "code",
   "execution_count": 28,
   "id": "a07baae5-4b90-4c8b-aeb9-ad206d04049a",
   "metadata": {},
   "outputs": [
    {
     "name": "stdout",
     "output_type": "stream",
     "text": [
      "[ 1  2  3  4  5  6  7  8  9 10 11 12]\n"
     ]
    }
   ],
   "source": [
    "import numpy as np\n",
    "arr = np.array([1, 2, 3, 4, 5, 6, 7, 8, 9, 10, 11, 12])\n",
    "print(arr)"
   ]
  },
  {
   "cell_type": "code",
   "execution_count": 29,
   "id": "ac997ab7-6a94-4971-939d-c047372e9c63",
   "metadata": {},
   "outputs": [
    {
     "name": "stdout",
     "output_type": "stream",
     "text": [
      "(12,)\n"
     ]
    }
   ],
   "source": [
    "print(arr.shape)"
   ]
  },
  {
   "cell_type": "code",
   "execution_count": 30,
   "id": "4a789dd4-d835-4ace-8c33-047e2b4f9e43",
   "metadata": {},
   "outputs": [
    {
     "name": "stdout",
     "output_type": "stream",
     "text": [
      "[[ 1  2  3  4]\n",
      " [ 5  6  7  8]\n",
      " [ 9 10 11 12]]\n",
      "(3, 4)\n"
     ]
    }
   ],
   "source": [
    "newarr = arr.reshape(3, 4)\n",
    "print(newarr)\n",
    "print(newarr.shape)"
   ]
  },
  {
   "cell_type": "code",
   "execution_count": 32,
   "id": "d55654a4-fac3-4f21-9a72-6bcd788a487d",
   "metadata": {},
   "outputs": [
    {
     "name": "stdout",
     "output_type": "stream",
     "text": [
      "[0.         1.66666667 3.33333333 5.        ]\n"
     ]
    }
   ],
   "source": [
    "x = np.linspace(0, 5, 4)\n",
    "print(x)"
   ]
  },
  {
   "cell_type": "code",
   "execution_count": 33,
   "id": "099de785-36f1-4a23-adde-e783b9d0b9d9",
   "metadata": {},
   "outputs": [
    {
     "name": "stdout",
     "output_type": "stream",
     "text": [
      "[ 0.  4.  8. 12. 16.]\n"
     ]
    }
   ],
   "source": [
    "y = np.linspace(0, 16, 5)\n",
    "print(y)"
   ]
  },
  {
   "cell_type": "code",
   "execution_count": 38,
   "id": "fefe1cd4-caf1-455c-ba9b-e14558556b3e",
   "metadata": {},
   "outputs": [
    {
     "name": "stdout",
     "output_type": "stream",
     "text": [
      "1\n",
      "12\n",
      "78\n",
      "3.452052529534663\n"
     ]
    }
   ],
   "source": [
    "a = np.array([1, 2, 3, 4, 5, 6, 7, 8, 9, 10, 11, 12])\n",
    "print(a.min())\n",
    "print(a.max())\n",
    "print(a.sum())\n",
    "print(a.std())"
   ]
  },
  {
   "cell_type": "code",
   "execution_count": 1,
   "id": "66b318e4-749c-4e64-9622-eb9c30576f88",
   "metadata": {},
   "outputs": [
    {
     "name": "stdout",
     "output_type": "stream",
     "text": [
      "[1, 2, 3] <class 'list'>\n"
     ]
    }
   ],
   "source": [
    "import numpy as np\n",
    "\n",
    "x = [1, 2, 3]\n",
    "print(x, type(x))"
   ]
  },
  {
   "cell_type": "code",
   "execution_count": 3,
   "id": "126a261e-6368-477d-ae46-f6e0a45d9553",
   "metadata": {},
   "outputs": [
    {
     "name": "stdout",
     "output_type": "stream",
     "text": [
      "[1 2 3] <class 'numpy.ndarray'>\n"
     ]
    }
   ],
   "source": [
    "a = np.asarray(x)\n",
    "print(a, type(a))"
   ]
  },
  {
   "cell_type": "code",
   "execution_count": 4,
   "id": "a31f2e06",
   "metadata": {},
   "outputs": [
    {
     "name": "stdout",
     "output_type": "stream",
     "text": [
      "[1 2 3 4 5 6]\n"
     ]
    }
   ],
   "source": [
    "# Join two arrays\n",
    "arr = np.array([1, 2, 3])\n",
    "arr2 = np.array([4, 5, 6])\n",
    "arr = np.concatenate((arr, arr2))\n",
    "print(arr)"
   ]
  },
  {
   "cell_type": "code",
   "execution_count": null,
   "id": "61c97b9d",
   "metadata": {},
   "outputs": [],
   "source": []
  }
 ],
 "metadata": {
  "kernelspec": {
   "display_name": "venv",
   "language": "python",
   "name": "python3"
  },
  "language_info": {
   "codemirror_mode": {
    "name": "ipython",
    "version": 3
   },
   "file_extension": ".py",
   "mimetype": "text/x-python",
   "name": "python",
   "nbconvert_exporter": "python",
   "pygments_lexer": "ipython3",
   "version": "3.13.5"
  }
 },
 "nbformat": 4,
 "nbformat_minor": 5
}
