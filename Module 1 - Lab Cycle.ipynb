{
 "cells": [
  {
   "cell_type": "code",
   "execution_count": 1,
   "id": "74b12971-7f0a-4830-a809-419eab7efa9d",
   "metadata": {},
   "outputs": [
    {
     "name": "stdin",
     "output_type": "stream",
     "text": [
      "Enter the first number:  10\n",
      "Enter the second number:  20\n"
     ]
    },
    {
     "name": "stdout",
     "output_type": "stream",
     "text": [
      "Before Swap a = 10 and b = 20\n",
      "After Swap a = 20 and b = 10\n"
     ]
    }
   ],
   "source": [
    "# 1. Write a Python program to swap two variables using a temporary variable.\n",
    "\n",
    "a = int(input(\"Enter the first number: \"))\n",
    "b = int(input(\"Enter the second number: \"))\n",
    "\n",
    "print(f\"Before Swap a = {a} and b = {b}\")\n",
    "\n",
    "temp = a\n",
    "a = b\n",
    "b = temp\n",
    "\n",
    "print(f\"After Swap a = {a} and b = {b}\")"
   ]
  },
  {
   "cell_type": "code",
   "execution_count": 3,
   "id": "84c0d1bb-c24f-44a5-9805-436df0e1afdf",
   "metadata": {},
   "outputs": [
    {
     "name": "stdin",
     "output_type": "stream",
     "text": [
      "Enter a string:  vishakhanpillai\n"
     ]
    },
    {
     "name": "stdout",
     "output_type": "stream",
     "text": [
      "The number of vowels in vishakhanpillai is 6\n"
     ]
    }
   ],
   "source": [
    "# 2. Write a program that takes a user input string and returns the number of vowels in it.\n",
    "\n",
    "string = input(\"Enter a string: \")\n",
    "\n",
    "vowels = ['a', 'e', 'i', 'o', 'u']\n",
    "count = 0\n",
    "for i in string:\n",
    "    if i in vowels:\n",
    "        count += 1\n",
    "\n",
    "print(f\"The number of vowels in {string} is {count}\") "
   ]
  },
  {
   "cell_type": "code",
   "execution_count": 6,
   "id": "dc0df6aa-4ef4-4d86-aa41-f90a0cff7b67",
   "metadata": {},
   "outputs": [
    {
     "name": "stdin",
     "output_type": "stream",
     "text": [
      "Enter a string: hello\n"
     ]
    },
    {
     "name": "stdout",
     "output_type": "stream",
     "text": [
      "The Reversed String is olleh\n"
     ]
    }
   ],
   "source": [
    "# 3. Write a program to reverse a string without using built-in functions.\n",
    "\n",
    "string = input(\"Enter a string:\")\n",
    "\n",
    "rev = \"\"\n",
    "\n",
    "for i in string:\n",
    "    rev = i + rev\n",
    "print(f\"The Reversed String is {rev}\")\n"
   ]
  },
  {
   "cell_type": "code",
   "execution_count": 7,
   "id": "9d153b64-0852-4323-9f6d-19b37eabadd8",
   "metadata": {},
   "outputs": [
    {
     "name": "stdin",
     "output_type": "stream",
     "text": [
      "Enter the first string: hello\n",
      "Enter the second string: world\n"
     ]
    },
    {
     "name": "stdout",
     "output_type": "stream",
     "text": [
      "The concatenated string is hello world\n"
     ]
    }
   ],
   "source": [
    "# 4. Concatenate two strings using variables and print the result.\n",
    "\n",
    "s1 = input(\"Enter the first string:\")\n",
    "s2 = input(\"Enter the second string:\")\n",
    "\n",
    "print(f\"The concatenated string is: {s1 + \" \" + s2}\")"
   ]
  },
  {
   "cell_type": "code",
   "execution_count": 12,
   "id": "07e8a64e-421a-4328-9385-8c0fe62da89a",
   "metadata": {},
   "outputs": [
    {
     "name": "stdin",
     "output_type": "stream",
     "text": [
      "Enter your string: Rajagiri\n",
      "Enter your substring: gir\n"
     ]
    },
    {
     "name": "stdout",
     "output_type": "stream",
     "text": [
      "Yes. gir is present in Rajagiri\n"
     ]
    }
   ],
   "source": [
    "# 5. Write a program that checks whether a substring exists in a given string.\n",
    "\n",
    "string = input(\"Enter your string:\")\n",
    "sub = input(\"Enter your substring:\")\n",
    "if sub in string:\n",
    "    print(f\"Yes. {sub} is present in {string}\")\n",
    "else:\n",
    "    print(f\"No. {sub} is not present in {string}\")"
   ]
  },
  {
   "cell_type": "code",
   "execution_count": 16,
   "id": "1b0db0af-e118-45ac-8625-fb4ff1803ef4",
   "metadata": {},
   "outputs": [
    {
     "name": "stdin",
     "output_type": "stream",
     "text": [
      "Enter the number of elements you want in your list: 5\n",
      "Enter element number 1: 10\n",
      "Enter element number 2: 40\n",
      "Enter element number 3: 25\n",
      "Enter element number 4: 23\n",
      "Enter element number 5: 65\n"
     ]
    },
    {
     "name": "stdout",
     "output_type": "stream",
     "text": [
      "The List is [10, 40, 25, 23, 65]\n",
      "The Maximum Element is 65\n",
      "The Minimum Element is 10\n"
     ]
    }
   ],
   "source": [
    "# 6. Write a program to find the maximum and minimum elements in a list.\n",
    "n = int(input(\"Enter the number of elements you want in your list:\"))\n",
    "li = []\n",
    "for i in range(0, n):\n",
    "    num = int(input(f\"Enter element number {i + 1}:\"))\n",
    "    li.append(num)\n",
    "\n",
    "print(f\"The List is {li}\")\n",
    "print(f\"The Maximum Element is {max(li)}\")\n",
    "print(f\"The Minimum Element is {min(li)}\")"
   ]
  },
  {
   "cell_type": "code",
   "execution_count": 18,
   "id": "407afd41-935a-47d8-a7d8-2a620f174b11",
   "metadata": {},
   "outputs": [
    {
     "name": "stdin",
     "output_type": "stream",
     "text": [
      "Enter the number of elements you want in your list: 5\n",
      "Enter element number 1: 1\n",
      "Enter element number 2: 2\n",
      "Enter element number 3: 2\n",
      "Enter element number 4: 3\n",
      "Enter element number 5: 4\n"
     ]
    },
    {
     "name": "stdout",
     "output_type": "stream",
     "text": [
      "The List is [1, 2, 2, 3, 4]\n",
      "The List without Duplicates is [1, 2, 3, 4]\n"
     ]
    }
   ],
   "source": [
    "# 7. Write a program to remove duplicates from a list.\n",
    "n = int(input(\"Enter the number of elements you want in your list:\"))\n",
    "li = []\n",
    "for i in range(0, n):\n",
    "    num = int(input(f\"Enter element number {i + 1}:\"))\n",
    "    li.append(num)\n",
    "\n",
    "print(f\"The List is {li}\")\n",
    "\n",
    "noDupli = []\n",
    "for i in li:\n",
    "    if i not in noDupli:\n",
    "        noDupli.append(i)\n",
    "\n",
    "print(f\"The List without Duplicates is {noDupli}\")\n",
    "    "
   ]
  },
  {
   "cell_type": "code",
   "execution_count": 23,
   "id": "efb6ffe3-07d1-4986-9150-22651191c532",
   "metadata": {},
   "outputs": [
    {
     "name": "stdin",
     "output_type": "stream",
     "text": [
      "Enter element number 1: 10\n",
      "Enter element number 2: 20\n",
      "Enter element number 3: 30\n",
      "Enter element number 4: 40\n",
      "Enter element number 5: 50\n"
     ]
    },
    {
     "name": "stdout",
     "output_type": "stream",
     "text": [
      "The Sum is 150\n",
      "The Average is 30.0\n"
     ]
    }
   ],
   "source": [
    "# 8. Create a tuple of 5 numbers. Print the sum and average of the numbers.\n",
    "\n",
    "tup = ()\n",
    "for i in range(0, 5):\n",
    "    num = int(input(f\"Enter element number {i + 1}:\"))\n",
    "    tup = tup + (num,)\n",
    "\n",
    "sum = 0\n",
    "avg = 0\n",
    "for i in tup:\n",
    "    sum = sum + i\n",
    "\n",
    "avg = sum/5\n",
    "\n",
    "print(f\"The Sum is {sum}\")\n",
    "print(f\"The Average is {avg}\")\n"
   ]
  },
  {
   "cell_type": "code",
   "execution_count": 3,
   "id": "13f8d201-964c-4619-a60a-8d909d99f694",
   "metadata": {},
   "outputs": [
    {
     "name": "stdin",
     "output_type": "stream",
     "text": [
      "Enter the number of elements you want in your list: 5\n",
      "Enter list element 1: 10\n",
      "Enter list element 2: 230\n",
      "Enter list element 3: 412\n",
      "Enter list element 4: 559\n",
      "Enter list element 5: 3123\n"
     ]
    },
    {
     "name": "stdout",
     "output_type": "stream",
     "text": [
      "The list is  [10, 230, 412, 559, 3123]\n",
      "The second largest element in the list is:559\n"
     ]
    }
   ],
   "source": [
    "# 9. Write a program to find the second largest number in a list.\n",
    "\n",
    "lst = []\n",
    "n = int(input(\"Enter the number of elements you want in your list:\"))\n",
    "\n",
    "for i in range(0, n):\n",
    "    num = int(input(f\"Enter list element {i + 1}:\"))\n",
    "    lst.append(num)\n",
    "\n",
    "print(\"The list is \", lst)\n",
    "lst.sort()\n",
    "print(f\"The second largest element in the list is:{lst[n-2]}\")"
   ]
  },
  {
   "cell_type": "code",
   "execution_count": 1,
   "id": "66d00a45-4e25-4da6-97d4-a3c06bf5c176",
   "metadata": {},
   "outputs": [
    {
     "name": "stdin",
     "output_type": "stream",
     "text": [
      "Enter the number of elements you want in your list: 5\n",
      "Enter list element 1: 1\n",
      "Enter list element 2: 3\n",
      "Enter list element 3: 1\n",
      "Enter list element 4: 4\n",
      "Enter list element 5: 1\n"
     ]
    },
    {
     "name": "stdout",
     "output_type": "stream",
     "text": [
      "The list is  [1, 3, 1, 4, 1]\n"
     ]
    },
    {
     "name": "stdin",
     "output_type": "stream",
     "text": [
      "Enter the number whose occurence you want to find: 1\n"
     ]
    },
    {
     "name": "stdout",
     "output_type": "stream",
     "text": [
      "The number 1 occurs in the list 3 times\n"
     ]
    }
   ],
   "source": [
    "# 10.Write a Python function to count how many times an element appears in a list.\n",
    "\n",
    "def itemCount(lst, element):\n",
    "    count = 0\n",
    "    for i in lst:\n",
    "        if i == element:\n",
    "            count += 1\n",
    "        else:\n",
    "            continue\n",
    "    return count\n",
    "\n",
    "lst = []\n",
    "n = int(input(\"Enter the number of elements you want in your list:\"))\n",
    "\n",
    "for i in range(0, n):\n",
    "    num = int(input(f\"Enter list element {i + 1}:\"))\n",
    "    lst.append(num)\n",
    "\n",
    "print(\"The list is \", lst)\n",
    "\n",
    "element = int(input(\"Enter the number whose occurence you want to find:\"))\n",
    "count = itemCount(lst, element)\n",
    "\n",
    "print(f\"The number {element} occurs in the list {count} times\")\n",
    "\n"
   ]
  },
  {
   "cell_type": "code",
   "execution_count": 8,
   "id": "ae749fb1-83f9-4a49-b959-f3d0bbd41303",
   "metadata": {},
   "outputs": [
    {
     "name": "stdin",
     "output_type": "stream",
     "text": [
      "Enter the number of elements you want in your first set: 3\n",
      "Enter the element 1: 1\n",
      "Enter the element 2: 2\n",
      "Enter the element 3: 3\n",
      "Enter the number of elements you want in your second set: 3\n",
      "Enter the element 1: 2\n",
      "Enter the element 2: 3\n",
      "Enter the element 3: 6\n"
     ]
    },
    {
     "name": "stdout",
     "output_type": "stream",
     "text": [
      "Set 1:  {1, 2, 3}\n",
      "Set 2:  {2, 3, 6}\n",
      "The Union of set 1 and set 2 is: {1, 2, 3, 6}\n",
      "The Intersection of set 1 and set 2 is: {2, 3}\n"
     ]
    }
   ],
   "source": [
    "# 11. Write a program to find the union and intersection of two sets.\n",
    "\n",
    "set1 = set()\n",
    "set2 = set()\n",
    "m = int(input(\"Enter the number of elements you want in your first set:\"))\n",
    "\n",
    "for i in range(0, m):\n",
    "    num = int(input(f\"Enter the element {i + 1}:\"))\n",
    "    set1.add(num)\n",
    "\n",
    "n = int(input(\"Enter the number of elements you want in your second set:\"))\n",
    "\n",
    "for i in range(0, n):\n",
    "    num = int(input(f\"Enter the element {i + 1}:\"))\n",
    "    set2.add(num)\n",
    "\n",
    "print(\"Set 1: \", set1)\n",
    "print(\"Set 2: \", set2)\n",
    "\n",
    "print(\"The Union of set 1 and set 2 is:\", set1.union(set2))\n",
    "print(\"The Intersection of set 1 and set 2 is:\", set1.intersection(set2))"
   ]
  },
  {
   "cell_type": "code",
   "execution_count": 11,
   "id": "1db8c483-ca53-4ca6-aced-58dcac2dddd3",
   "metadata": {},
   "outputs": [
    {
     "name": "stdin",
     "output_type": "stream",
     "text": [
      "Enter key 1: Tony\n",
      "Enter value 1: Stark\n",
      "Enter key 2: Thor\n",
      "Enter value 2: Odinson\n",
      "Enter key 3: Steve\n",
      "Enter value 3: Rogers\n",
      "Enter key 4: Clint\n",
      "Enter value 4: Barton\n",
      "Enter key 5: Bruce\n",
      "Enter value 5: Banner\n"
     ]
    },
    {
     "name": "stdout",
     "output_type": "stream",
     "text": [
      "The dictionary is: {'Tony': 'Stark', 'Thor': 'Odinson', 'Steve': 'Rogers', 'Clint': 'Barton', 'Bruce': 'Banner'}\n"
     ]
    }
   ],
   "source": [
    "# 12.Create a dictionary with 5 key-value pairs and print all keys and values.\n",
    "\n",
    "dictionary = {}\n",
    "\n",
    "for i in range(0, 5):\n",
    "    key = input(f\"Enter key {i + 1}:\")\n",
    "    value = input(f\"Enter value {i + 1}:\")\n",
    "    dictionary[key] = value\n",
    "\n",
    "print(\"The dictionary is:\", dictionary) "
   ]
  },
  {
   "cell_type": "code",
   "execution_count": 2,
   "id": "3079fae0-fc0c-46c9-822e-d07c9236210e",
   "metadata": {},
   "outputs": [
    {
     "name": "stdin",
     "output_type": "stream",
     "text": [
      "Enter your string: hello\n"
     ]
    },
    {
     "name": "stdout",
     "output_type": "stream",
     "text": [
      "Character Frequency:\n",
      "'h': 1\n",
      "'e': 1\n",
      "'l': 2\n",
      "'o': 1\n"
     ]
    }
   ],
   "source": [
    "# 13. Write a program to count the frequency of characters in a string using a dictionary\n",
    "\n",
    "string = input(\"Enter your string:\")\n",
    "\n",
    "freq = {}\n",
    "\n",
    "for i in string:\n",
    "    if i in freq:\n",
    "        freq[i] += 1\n",
    "    else:\n",
    "        freq[i] = 1\n",
    "\n",
    "print(\"Character Frequency:\")\n",
    "for i, j in freq.items():\n",
    "    print(f\"'{i}': {j}\")"
   ]
  },
  {
   "cell_type": "code",
   "execution_count": 5,
   "id": "c2219e5b-2981-4b77-aded-2aa90b44e4d5",
   "metadata": {},
   "outputs": [
    {
     "name": "stdout",
     "output_type": "stream",
     "text": [
      "2, 3, 5, 7, 11, 13, 17, 19, 23, 29, 31, 37, 41, 43, 47, "
     ]
    }
   ],
   "source": [
    "\"\"\"\n",
    "Program: Prime Numbers from 1 to 50\n",
    "Description: This program prints all prime numbers in the range from 1 to 50.\n",
    "Author: Vishakhan Pillai V P\n",
    "Date: July 9, 2025\n",
    "\"\"\"\n",
    "\n",
    "for num in range(2, 51):\n",
    "    is_prime = True\n",
    "    for i in range(2, int(num**0.5) + 1):\n",
    "        if num % i == 0:\n",
    "            is_prime = False\n",
    "            break\n",
    "    if is_prime:\n",
    "        print(num, end=', ')"
   ]
  },
  {
   "cell_type": "code",
   "execution_count": 6,
   "id": "01dccf4b-8c76-4233-a3fb-def2b917fd6b",
   "metadata": {},
   "outputs": [
    {
     "name": "stdin",
     "output_type": "stream",
     "text": [
      "Enter a number to generate its multiplication table:  5\n"
     ]
    },
    {
     "name": "stdout",
     "output_type": "stream",
     "text": [
      "5 x 1 = 5\n",
      "5 x 2 = 10\n",
      "5 x 3 = 15\n",
      "5 x 4 = 20\n",
      "5 x 5 = 25\n",
      "5 x 6 = 30\n",
      "5 x 7 = 35\n",
      "5 x 8 = 40\n",
      "5 x 9 = 45\n",
      "5 x 10 = 50\n"
     ]
    }
   ],
   "source": [
    "\"\"\"\n",
    "Program: Multiplication Table Generator\n",
    "Description: This program takes a number as input from the user and prints its multiplication table from 1 to 10 using a for loop.\n",
    "Author: Vishakhan Pillai V P\n",
    "Date: July 9, 2025\n",
    "\"\"\"\n",
    "\n",
    "number = int(input(\"Enter a number to generate its multiplication table: \"))\n",
    "\n",
    "for i in range(1, 11):\n",
    "    print(f\"{number} x {i} = {number * i}\")"
   ]
  },
  {
   "cell_type": "code",
   "execution_count": 7,
   "id": "03040769-bf84-4090-813e-90253f189a58",
   "metadata": {},
   "outputs": [
    {
     "name": "stdin",
     "output_type": "stream",
     "text": [
      "Enter the number of terms:  5\n"
     ]
    },
    {
     "name": "stdout",
     "output_type": "stream",
     "text": [
      "0 1 1 2 3 "
     ]
    }
   ],
   "source": [
    "\"\"\"\n",
    "Program: Fibonacci Series Generator Using Recursion\n",
    "Description: This program prints the Fibonacci series up to 'n' terms using a recursive function.\n",
    "Author: Vishakhan Pillai V P\n",
    "Date: July 9, 2025\n",
    "\"\"\"\n",
    "\n",
    "def fibonacci(n):\n",
    "    if n <= 1:\n",
    "        return n\n",
    "    else:\n",
    "        return fibonacci(n - 1) + fibonacci(n - 2)\n",
    "\n",
    "terms = int(input(\"Enter the number of terms: \"))\n",
    "\n",
    "for i in range(terms):\n",
    "    print(fibonacci(i), end=' ')\n"
   ]
  }
 ],
 "metadata": {
  "kernelspec": {
   "display_name": "Python 3 (ipykernel)",
   "language": "python",
   "name": "python3"
  },
  "language_info": {
   "codemirror_mode": {
    "name": "ipython",
    "version": 3
   },
   "file_extension": ".py",
   "mimetype": "text/x-python",
   "name": "python",
   "nbconvert_exporter": "python",
   "pygments_lexer": "ipython3",
   "version": "3.13.5"
  }
 },
 "nbformat": 4,
 "nbformat_minor": 5
}
