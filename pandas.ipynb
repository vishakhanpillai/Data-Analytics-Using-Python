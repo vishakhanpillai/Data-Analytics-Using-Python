{
 "cells": [
  {
   "cell_type": "code",
   "execution_count": 5,
   "id": "b34ab1a0-e056-419d-a686-0c0b990e3cd4",
   "metadata": {},
   "outputs": [
    {
     "data": {
      "text/plain": [
       "0    0.25\n",
       "1    0.50\n",
       "2    0.75\n",
       "3    1.00\n",
       "4    0.00\n",
       "dtype: float64"
      ]
     },
     "execution_count": 5,
     "metadata": {},
     "output_type": "execute_result"
    }
   ],
   "source": [
    "import pandas as pd\n",
    "\n",
    "data = pd.Series([0.25, 0.5, 0.75, 1.0])\n",
    "data"
   ]
  },
  {
   "cell_type": "code",
   "execution_count": 7,
   "id": "f332a9df-dae4-48d9-b86f-10096c7fe149",
   "metadata": {},
   "outputs": [
    {
     "data": {
      "text/plain": [
       "a    0.25\n",
       "b    0.50\n",
       "c    0.75\n",
       "d    1.00\n",
       "dtype: float64"
      ]
     },
     "execution_count": 7,
     "metadata": {},
     "output_type": "execute_result"
    }
   ],
   "source": [
    "data = pd.Series([0.25, 0.5, 0.75, 1.0], index=['a', 'b', 'c', 'd'])\n",
    "data"
   ]
  },
  {
   "cell_type": "code",
   "execution_count": 8,
   "id": "4ac19fe8-22ec-4caa-92b4-24c18113ebc5",
   "metadata": {},
   "outputs": [
    {
     "data": {
      "text/plain": [
       "np.float64(0.5)"
      ]
     },
     "execution_count": 8,
     "metadata": {},
     "output_type": "execute_result"
    }
   ],
   "source": [
    "data['b']"
   ]
  },
  {
   "cell_type": "code",
   "execution_count": 16,
   "id": "eeb0f28c-b636-446a-9fdd-7fd33c744957",
   "metadata": {},
   "outputs": [
    {
     "data": {
      "text/plain": [
       "np.int64(1)"
      ]
     },
     "execution_count": 16,
     "metadata": {},
     "output_type": "execute_result"
    }
   ],
   "source": [
    "data = pd.Series([1, 2, 3, 4], index=[ 2, 3, 4, 5])\n",
    "data[2]"
   ]
  },
  {
   "cell_type": "code",
   "execution_count": 5,
   "id": "f17bbf1d-decb-45db-bbb9-129074e99fdb",
   "metadata": {},
   "outputs": [
    {
     "data": {
      "text/plain": [
       "Kochi           383521\n",
       "Kozhikode     26448193\n",
       "Trivandrum    19651127\n",
       "Thrissur        234567\n",
       "dtype: int64"
      ]
     },
     "execution_count": 5,
     "metadata": {},
     "output_type": "execute_result"
    }
   ],
   "source": [
    "population_dic = {\n",
    "    'Kochi':383521,\n",
    "    'Kozhikode': 26448193,\n",
    "    'Trivandrum': 19651127,\n",
    "    'Thrissur': 234567\n",
    "}\n",
    "\n",
    "population = pd.Series(population_dic)\n",
    "population"
   ]
  },
  {
   "cell_type": "code",
   "execution_count": 17,
   "id": "3f78c01b-3718-4221-9a86-db29cf4b5e9c",
   "metadata": {},
   "outputs": [
    {
     "data": {
      "text/plain": [
       "100    5\n",
       "200    5\n",
       "300    5\n",
       "dtype: int64"
      ]
     },
     "execution_count": 17,
     "metadata": {},
     "output_type": "execute_result"
    }
   ],
   "source": [
    "pd.Series(5, index=[100, 200, 300])"
   ]
  },
  {
   "cell_type": "code",
   "execution_count": 7,
   "id": "3221f441",
   "metadata": {},
   "outputs": [],
   "source": [
    "area_dic = {\n",
    "    'Kochi':83521,\n",
    "    'Kozhikode': 448193,\n",
    "    'Trivandrum': 651127,\n",
    "    'Thrissur': 24567\n",
    "}\n",
    "\n",
    "area = pd.Series(area_dic)"
   ]
  },
  {
   "cell_type": "code",
   "execution_count": 10,
   "id": "831aec01-1476-49f3-a076-65b6167661ca",
   "metadata": {},
   "outputs": [
    {
     "name": "stdout",
     "output_type": "stream",
     "text": [
      "            Population    Area\n",
      "Kochi           383521   83521\n",
      "Kozhikode     26448193  448193\n",
      "Trivandrum    19651127  651127\n",
      "Thrissur        234567   24567\n"
     ]
    }
   ],
   "source": [
    "places = pd.DataFrame({\n",
    "    \"Population\": population,\n",
    "    \"Area\" : area\n",
    "})\n",
    "\n",
    "print(places)\n",
    "\n"
   ]
  },
  {
   "cell_type": "code",
   "execution_count": 11,
   "id": "2024ff5b",
   "metadata": {},
   "outputs": [
    {
     "data": {
      "text/plain": [
       "Index(['Kochi', 'Kozhikode', 'Trivandrum', 'Thrissur'], dtype='object')"
      ]
     },
     "execution_count": 11,
     "metadata": {},
     "output_type": "execute_result"
    }
   ],
   "source": [
    "places.index"
   ]
  },
  {
   "cell_type": "code",
   "execution_count": 12,
   "id": "b7f30667",
   "metadata": {},
   "outputs": [
    {
     "data": {
      "text/plain": [
       "Kochi          83521\n",
       "Kozhikode     448193\n",
       "Trivandrum    651127\n",
       "Thrissur       24567\n",
       "Name: Area, dtype: int64"
      ]
     },
     "execution_count": 12,
     "metadata": {},
     "output_type": "execute_result"
    }
   ],
   "source": [
    "places['Area']"
   ]
  },
  {
   "cell_type": "code",
   "execution_count": 17,
   "id": "5b0f2e76",
   "metadata": {},
   "outputs": [
    {
     "name": "stdout",
     "output_type": "stream",
     "text": [
      "        Test1  Test2\n",
      "John       88     84\n",
      "Amal       89     85\n",
      "Sachin     90     86\n",
      "Arjun      91     87\n",
      "Alan       92     88\n"
     ]
    }
   ],
   "source": [
    "df_scores = pd.DataFrame({\n",
    "    'Test1': [88, 89, 90, 91, 92], \n",
    "    'Test2':[84, 85, 86, 87, 88]\n",
    "    }, \n",
    "    index=['John', 'Amal', 'Sachin', 'Arjun', 'Alan'])\n",
    "\n",
    "print(df_scores)"
   ]
  },
  {
   "cell_type": "code",
   "execution_count": 22,
   "id": "26510a8d",
   "metadata": {},
   "outputs": [
    {
     "name": "stdout",
     "output_type": "stream",
     "text": [
      "Max\n",
      "Test1    92\n",
      "Test2    88\n",
      "dtype: int64\n",
      "Mean\n",
      "Test1    90.0\n",
      "Test2    86.0\n",
      "dtype: float64\n",
      "Standard Deviation\n",
      "Test1    1.581139\n",
      "Test2    1.581139\n",
      "dtype: float64\n"
     ]
    }
   ],
   "source": [
    "print(f\"Max\\n{df_scores.max()}\") # Max Values of column\n",
    "print(f\"Mean\\n{df_scores.mean()}\") # Mean Values of column\n",
    "print(f\"Standard Deviation\\n{df_scores.std()}\") # Standard Deviation of each column\n"
   ]
  },
  {
   "cell_type": "code",
   "execution_count": null,
   "id": "94d0b915",
   "metadata": {},
   "outputs": [
    {
     "data": {
      "text/html": [
       "<div>\n",
       "<style scoped>\n",
       "    .dataframe tbody tr th:only-of-type {\n",
       "        vertical-align: middle;\n",
       "    }\n",
       "\n",
       "    .dataframe tbody tr th {\n",
       "        vertical-align: top;\n",
       "    }\n",
       "\n",
       "    .dataframe thead th {\n",
       "        text-align: right;\n",
       "    }\n",
       "</style>\n",
       "<table border=\"1\" class=\"dataframe\">\n",
       "  <thead>\n",
       "    <tr style=\"text-align: right;\">\n",
       "      <th></th>\n",
       "      <th>Test1</th>\n",
       "      <th>Test2</th>\n",
       "    </tr>\n",
       "  </thead>\n",
       "  <tbody>\n",
       "    <tr>\n",
       "      <th>John</th>\n",
       "      <td>88</td>\n",
       "      <td>84</td>\n",
       "    </tr>\n",
       "    <tr>\n",
       "      <th>Amal</th>\n",
       "      <td>89</td>\n",
       "      <td>85</td>\n",
       "    </tr>\n",
       "  </tbody>\n",
       "</table>\n",
       "</div>"
      ],
      "text/plain": [
       "      Test1  Test2\n",
       "John     88     84\n",
       "Amal     89     85"
      ]
     },
     "execution_count": 24,
     "metadata": {},
     "output_type": "execute_result"
    }
   ],
   "source": [
    "df_scores.head(2) #prints first two records"
   ]
  },
  {
   "cell_type": "code",
   "execution_count": null,
   "id": "8aca3143",
   "metadata": {},
   "outputs": [
    {
     "data": {
      "text/html": [
       "<div>\n",
       "<style scoped>\n",
       "    .dataframe tbody tr th:only-of-type {\n",
       "        vertical-align: middle;\n",
       "    }\n",
       "\n",
       "    .dataframe tbody tr th {\n",
       "        vertical-align: top;\n",
       "    }\n",
       "\n",
       "    .dataframe thead th {\n",
       "        text-align: right;\n",
       "    }\n",
       "</style>\n",
       "<table border=\"1\" class=\"dataframe\">\n",
       "  <thead>\n",
       "    <tr style=\"text-align: right;\">\n",
       "      <th></th>\n",
       "      <th>Test1</th>\n",
       "      <th>Test2</th>\n",
       "    </tr>\n",
       "  </thead>\n",
       "  <tbody>\n",
       "    <tr>\n",
       "      <th>Arjun</th>\n",
       "      <td>91</td>\n",
       "      <td>87</td>\n",
       "    </tr>\n",
       "    <tr>\n",
       "      <th>Alan</th>\n",
       "      <td>92</td>\n",
       "      <td>88</td>\n",
       "    </tr>\n",
       "  </tbody>\n",
       "</table>\n",
       "</div>"
      ],
      "text/plain": [
       "       Test1  Test2\n",
       "Arjun     91     87\n",
       "Alan      92     88"
      ]
     },
     "execution_count": 26,
     "metadata": {},
     "output_type": "execute_result"
    }
   ],
   "source": [
    "df_scores.tail(2) #prints last two records"
   ]
  },
  {
   "cell_type": "code",
   "execution_count": 34,
   "id": "613bdc90",
   "metadata": {},
   "outputs": [
    {
     "name": "stdout",
     "output_type": "stream",
     "text": [
      "Index([2, 3, 5, 7, 11], dtype='int64')\n",
      "3\n",
      "Index([5, 7], dtype='int64')\n",
      "Index([11, 7, 5, 3, 2], dtype='int64')\n",
      "Index([2, 5, 11], dtype='int64')\n"
     ]
    }
   ],
   "source": [
    "ind = pd.Index([2, 3, 5, 7, 11])\n",
    "print(ind)\n",
    "print(ind[1])\n",
    "print(ind[2:4])\n",
    "print(ind[::-1])\n",
    "print(ind[::2])"
   ]
  },
  {
   "cell_type": "code",
   "execution_count": null,
   "id": "841baffb",
   "metadata": {},
   "outputs": [],
   "source": []
  }
 ],
 "metadata": {
  "kernelspec": {
   "display_name": "Python 3 (ipykernel)",
   "language": "python",
   "name": "python3"
  },
  "language_info": {
   "codemirror_mode": {
    "name": "ipython",
    "version": 3
   },
   "file_extension": ".py",
   "mimetype": "text/x-python",
   "name": "python",
   "nbconvert_exporter": "python",
   "pygments_lexer": "ipython3",
   "version": "3.13.5"
  }
 },
 "nbformat": 4,
 "nbformat_minor": 5
}
