{
 "cells": [
  {
   "cell_type": "code",
   "execution_count": 3,
   "id": "080171a6-85d2-4f5d-ba71-9f44293e0507",
   "metadata": {},
   "outputs": [
    {
     "name": "stdout",
     "output_type": "stream",
     "text": [
      "Error Occured: name 'x' is not defined\n",
      "10\n"
     ]
    }
   ],
   "source": [
    "a = 10\n",
    "\n",
    "try:\n",
    "    print(x)\n",
    "except Exception as e:\n",
    "    print(\"Error Occured:\", e)\n",
    "    \n",
    "print(a)"
   ]
  },
  {
   "cell_type": "code",
   "execution_count": 6,
   "id": "0df1472e-aba3-4296-b09c-08723e5b5766",
   "metadata": {},
   "outputs": [
    {
     "name": "stdout",
     "output_type": "stream",
     "text": [
      "Variable 'x' is not defined. name 'x' is not defined\n",
      "10\n"
     ]
    }
   ],
   "source": [
    "a = 10\n",
    "\n",
    "try:\n",
    "    print(x)\n",
    "except NameError as e:\n",
    "    print(\"Variable 'x' is not defined.\", e)\n",
    "\n",
    "print(a)"
   ]
  },
  {
   "cell_type": "code",
   "execution_count": 10,
   "id": "106dd8c3-e034-415f-9dc7-2d7b4f82a6a6",
   "metadata": {},
   "outputs": [
    {
     "name": "stdin",
     "output_type": "stream",
     "text": [
      "Enter a number:  0\n"
     ]
    },
    {
     "name": "stdout",
     "output_type": "stream",
     "text": [
      "Error Occured: division by zero\n"
     ]
    }
   ],
   "source": [
    "try:\n",
    "    x = int(input(\"Enter a number: \"))\n",
    "    y = 10 / x\n",
    "    print(\"Result:\", y)\n",
    "except Exception as e:\n",
    "    print(\"Error Occured:\",e)\n",
    "    "
   ]
  },
  {
   "cell_type": "code",
   "execution_count": 12,
   "id": "3a56fc2a-8568-4b69-b951-490383585045",
   "metadata": {},
   "outputs": [
    {
     "name": "stdout",
     "output_type": "stream",
     "text": [
      "division by zero\n"
     ]
    }
   ],
   "source": [
    "try:\n",
    "    result = 10 / 0\n",
    "except ZeroDivisionError as e:\n",
    "    print(e)"
   ]
  },
  {
   "cell_type": "code",
   "execution_count": 16,
   "id": "eaa0b819-0abf-43c2-9e59-92c9f935da5b",
   "metadata": {},
   "outputs": [
    {
     "name": "stdout",
     "output_type": "stream",
     "text": [
      "Some error Occured division by zero\n"
     ]
    }
   ],
   "source": [
    "try:\n",
    "    result = 10/0\n",
    "except Exception as e:\n",
    "    print(\"Some error Occured\", e)\n",
    "except ZeroDivisionError:\n",
    "    print(\"Cannod divide by zero\")"
   ]
  },
  {
   "cell_type": "code",
   "execution_count": 19,
   "id": "6bfd3c29-07ea-4488-9a90-66c5c46141f4",
   "metadata": {},
   "outputs": [
    {
     "name": "stdout",
     "output_type": "stream",
     "text": [
      "invalid literal for int() with base 10: 'abc'\n"
     ]
    }
   ],
   "source": [
    "try:\n",
    "    num = int(\"abc\")\n",
    "    print(num)\n",
    "except ValueError as e:\n",
    "    print(e)"
   ]
  },
  {
   "cell_type": "code",
   "execution_count": 20,
   "id": "440ba7e7-afd8-493e-8131-5587424d8ecd",
   "metadata": {},
   "outputs": [
    {
     "name": "stdout",
     "output_type": "stream",
     "text": [
      "list index out of range\n"
     ]
    }
   ],
   "source": [
    "try:\n",
    "    lst = [1, 2, 3, 4]\n",
    "    print(lst[4])\n",
    "    except  as e:\n",
    "    print(e)"
   ]
  },
  {
   "cell_type": "code",
   "execution_count": 22,
   "id": "b1d286d6-e4aa-403a-975b-cc4d0bd817a7",
   "metadata": {},
   "outputs": [
    {
     "name": "stdin",
     "output_type": "stream",
     "text": [
      "Enter a numerator: avc\n"
     ]
    },
    {
     "name": "stdout",
     "output_type": "stream",
     "text": [
      "Please enter valid integers.\n"
     ]
    }
   ],
   "source": [
    "try:\n",
    "    a = int(input(\"Enter a numerator:\"))\n",
    "    b = int(input(\"Enter a denominator:\"))\n",
    "    result = a / b\n",
    "    print(\"Result is:\", result)\n",
    "except ValueError:\n",
    "    print(\"Please enter valid integers.\")\n",
    "except ZeroDivisionError:\n",
    "    print(\"Denominator cannot be zero\")"
   ]
  },
  {
   "cell_type": "code",
   "execution_count": 23,
   "id": "48fcf7d1-9867-47bf-ae72-8f30a89b9cb7",
   "metadata": {},
   "outputs": [
    {
     "name": "stdout",
     "output_type": "stream",
     "text": [
      "File Not Found\n",
      "Execution Complete.\n"
     ]
    }
   ],
   "source": [
    "try:\n",
    "    f = open(\"sample.txt\", \"r\")\n",
    "    content = f.read()\n",
    "except FileNotFoundError:\n",
    "    print(\"File Not Found\")\n",
    "else:\n",
    "    print(\"File Content:\", content)\n",
    "finally:\n",
    "    print(\"Execution Complete.\")"
   ]
  },
  {
   "cell_type": "code",
   "execution_count": 25,
   "id": "a6a0808d-a877-4ab6-9f1e-e66938c97509",
   "metadata": {},
   "outputs": [
    {
     "name": "stdin",
     "output_type": "stream",
     "text": [
      "Enter your age:  -10\n"
     ]
    },
    {
     "name": "stdout",
     "output_type": "stream",
     "text": [
      "Age cannot be negative\n"
     ]
    }
   ],
   "source": [
    "def check_age(age):\n",
    "    if age < 0:\n",
    "        raise ValueError(\"Age cannot be negative\")\n",
    "    print(\"Valid age:\", age)\n",
    "\n",
    "try:\n",
    "    age = int(input(\"Enter your age: \"))\n",
    "    check_age(age)\n",
    "except ValueError as e:\n",
    "    print(e)"
   ]
  },
  {
   "cell_type": "code",
   "execution_count": 28,
   "id": "163f3e88-2153-444e-b1fd-2c8f7e283f2f",
   "metadata": {},
   "outputs": [
    {
     "name": "stdin",
     "output_type": "stream",
     "text": [
      "Enter an integer: 10\n"
     ]
    },
    {
     "name": "stdout",
     "output_type": "stream",
     "text": [
      "10\n"
     ]
    }
   ],
   "source": [
    "try:\n",
    "    text = input(\"Enter an integer:\")\n",
    "    print(int(text))\n",
    "except ValueError as e:\n",
    "    print(e)\n",
    "    "
   ]
  },
  {
   "cell_type": "code",
   "execution_count": 31,
   "id": "1eaa31b8-2341-44bc-a22b-556b3191d376",
   "metadata": {},
   "outputs": [
    {
     "name": "stdin",
     "output_type": "stream",
     "text": [
      "Enter first number: 10\n",
      "Enter second number: 0\n",
      "Enter your operation(+, -, *, /): /\n"
     ]
    },
    {
     "name": "stdout",
     "output_type": "stream",
     "text": [
      "division by zero\n"
     ]
    }
   ],
   "source": [
    "try:\n",
    "    a = int(input(\"Enter first number:\"))\n",
    "    b = int(input(\"Enter second number:\"))\n",
    "\n",
    "    operator = input(\"Enter your operation(+, -, *, /):\")\n",
    "\n",
    "    if(operator == '+'):\n",
    "        print(\"Result:\", a+b)\n",
    "    elif(operator == '-'):\n",
    "        print(\"Result:\", a-b)\n",
    "    elif(operator == '*'):\n",
    "        print(\"Result:\", a*b)\n",
    "    elif(operator == '/'):\n",
    "        print(\"Result:\", a/b)\n",
    "except ZeroDivisionError as e:\n",
    "    print(e)\n",
    "except ValueError as e:\n",
    "    print(e)\n",
    "except Exception as e:\n",
    "    print(e)        "
   ]
  },
  {
   "cell_type": "code",
   "execution_count": 37,
   "id": "ed6e4a16-b5a0-465a-a62f-f0f459a0d99d",
   "metadata": {},
   "outputs": [
    {
     "name": "stdin",
     "output_type": "stream",
     "text": [
      "Enter your mark: 10000\n"
     ]
    },
    {
     "name": "stdout",
     "output_type": "stream",
     "text": [
      "Invalid Mark\n"
     ]
    }
   ],
   "source": [
    "class InvalidMarkException(Exception):\n",
    "    pass\n",
    "    \n",
    "def checkMark(mark):\n",
    "    if( mark < 0 or mark > 100):\n",
    "        raise InvalidMarkException (\"Invalid Mark\")\n",
    "    print(mark)\n",
    "\n",
    "mark = int(input(\"Enter your mark:\"))\n",
    "try:\n",
    "    checkMark(mark)\n",
    "except InvalidMarkException as e:\n",
    "    print(e)\n",
    "    \n"
   ]
  },
  {
   "cell_type": "code",
   "execution_count": 40,
   "id": "29e0e3e3-503b-40a4-8e56-5104a9e35d86",
   "metadata": {},
   "outputs": [
    {
     "name": "stdin",
     "output_type": "stream",
     "text": [
      "Enter first number: 10\n",
      "Enter second number: 0\n",
      "Enter your operation(+, -, *, /): /\n"
     ]
    },
    {
     "name": "stdout",
     "output_type": "stream",
     "text": [
      "division by zero\n",
      "End of Validation\n"
     ]
    }
   ],
   "source": [
    "try:\n",
    "    a = int(input(\"Enter first number:\"))\n",
    "    b = int(input(\"Enter second number:\"))\n",
    "\n",
    "    operator = input(\"Enter your operation(+, -, *, /):\")\n",
    "\n",
    "    if(operator == '+'):\n",
    "        print(\"Result:\", a+b)\n",
    "    elif(operator == '-'):\n",
    "        print(\"Result:\", a-b)\n",
    "    elif(operator == '*'):\n",
    "        print(\"Result:\", a*b)\n",
    "    elif(operator == '/'):\n",
    "        print(\"Result:\", a/b)\n",
    "except ZeroDivisionError as e:\n",
    "    print(e)\n",
    "except ValueError as e:\n",
    "    print(e)\n",
    "except Exception as e:\n",
    "    print(e)        \n",
    "finally:\n",
    "    print(\"End of Validation\")"
   ]
  },
  {
   "cell_type": "code",
   "execution_count": 43,
   "id": "88f78588-e380-459b-aff4-9006149c2893",
   "metadata": {},
   "outputs": [
    {
     "name": "stdin",
     "output_type": "stream",
     "text": [
      "Enter your age:  -200\n"
     ]
    },
    {
     "name": "stdout",
     "output_type": "stream",
     "text": [
      "Invalid Age!!\n"
     ]
    }
   ],
   "source": [
    "def check_age(age):\n",
    "    if age < 0 or age > 150:\n",
    "        raise ValueError(\"Invalid Age!!\")\n",
    "    print(\"Valid age:\", age)\n",
    "\n",
    "try:\n",
    "    age = int(input(\"Enter your age: \"))\n",
    "    check_age(age)\n",
    "except ValueError as e:\n",
    "    print(e)"
   ]
  }
 ],
 "metadata": {
  "kernelspec": {
   "display_name": "Python 3 (ipykernel)",
   "language": "python",
   "name": "python3"
  },
  "language_info": {
   "codemirror_mode": {
    "name": "ipython",
    "version": 3
   },
   "file_extension": ".py",
   "mimetype": "text/x-python",
   "name": "python",
   "nbconvert_exporter": "python",
   "pygments_lexer": "ipython3",
   "version": "3.13.5"
  }
 },
 "nbformat": 4,
 "nbformat_minor": 5
}
