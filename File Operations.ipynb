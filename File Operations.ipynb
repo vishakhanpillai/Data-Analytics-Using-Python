{
 "cells": [
  {
   "cell_type": "code",
   "execution_count": 6,
   "id": "38321de0-1eff-4bed-baef-9d47be92db89",
   "metadata": {},
   "outputs": [
    {
     "name": "stdout",
     "output_type": "stream",
     "text": [
      "Created the fila and data writter\n"
     ]
    }
   ],
   "source": [
    "# program to create a file and write data into it\n",
    "\"\"\"\n",
    "open(file_name, operation)\n",
    "operation - read or write\n",
    "\"\"\"\n",
    "with open(\"file.txt\", \"w\") as file:\n",
    "    file.write(\"Hello!\\n\")\n",
    "    file.write(\"Welcome to file operations in python\")\n",
    "print(\"Created the fila and data writter\")"
   ]
  },
  {
   "cell_type": "code",
   "execution_count": 7,
   "id": "1cc72a9b-032b-4aaf-83ca-d43be475763d",
   "metadata": {},
   "outputs": [
    {
     "name": "stdout",
     "output_type": "stream",
     "text": [
      "\n",
      "Read from file1:\n",
      "Hello!\n",
      "Welcome to file operations in python\n"
     ]
    }
   ],
   "source": [
    "with open(\"file.txt\", \"r\") as file:\n",
    "    b = file.read()\n",
    "print(\"\\nRead from file1:\")\n",
    "print(b)"
   ]
  },
  {
   "cell_type": "code",
   "execution_count": 8,
   "id": "3f9743aa-b557-4951-b766-8a4905366344",
   "metadata": {},
   "outputs": [
    {
     "name": "stdout",
     "output_type": "stream",
     "text": [
      "\n",
      "Another line Appended\n"
     ]
    }
   ],
   "source": [
    "with open(\"file.txt\", \"a\") as file:\n",
    "    file.write(\"\\nThis is an append line\")\n",
    "print(\"\\nAnother line Appended\")"
   ]
  },
  {
   "cell_type": "code",
   "execution_count": 9,
   "id": "f456bb22-2338-4caf-8ec6-0af7bae79001",
   "metadata": {},
   "outputs": [
    {
     "name": "stdout",
     "output_type": "stream",
     "text": [
      "\n",
      "Read from file1:\n",
      "Hello!\n",
      "Welcome to file operations in python\n",
      "This is an append line\n"
     ]
    }
   ],
   "source": [
    "with open(\"file.txt\", \"r\") as file:\n",
    "    b = file.read()\n",
    "print(\"\\nRead from file1:\")\n",
    "print(b)"
   ]
  },
  {
   "cell_type": "code",
   "execution_count": 12,
   "id": "b48a94f2-e478-4a45-a1f8-4780eb440cc4",
   "metadata": {},
   "outputs": [],
   "source": [
    "with open(\"manual.txt\", \"w\") as file:\n",
    "    file.write(\"This is a manual file\")"
   ]
  },
  {
   "cell_type": "code",
   "execution_count": 13,
   "id": "264c8f9e-be25-4d52-a330-17a5b8cbd9a2",
   "metadata": {},
   "outputs": [
    {
     "name": "stdout",
     "output_type": "stream",
     "text": [
      "This is a manual file\n"
     ]
    }
   ],
   "source": [
    "with open(\"manual.txt\", 'r') as file:\n",
    "    b = file.read()\n",
    "    print(b)"
   ]
  },
  {
   "cell_type": "code",
   "execution_count": 14,
   "id": "65fa3258-210c-42d1-a261-c5c7a4eed6c3",
   "metadata": {},
   "outputs": [
    {
     "name": "stdout",
     "output_type": "stream",
     "text": [
      "File deleted successfully\n"
     ]
    }
   ],
   "source": [
    "import os\n",
    "if os.path.exists(\"manual.txt\"):\n",
    "    os.remove(\"manual.txt\")\n",
    "    print(\"File deleted successfully\")\n",
    "else:\n",
    "    print(\"File not found\")"
   ]
  },
  {
   "cell_type": "code",
   "execution_count": 16,
   "id": "cd4e5584-8ec7-4c95-86bd-8a5ee5555671",
   "metadata": {},
   "outputs": [
    {
     "name": "stdout",
     "output_type": "stream",
     "text": [
      "[Errno 2] No such file or directory: 'c.txt'\n"
     ]
    }
   ],
   "source": [
    "try:\n",
    "    with open(\"c.txt\", \"r\") as file:\n",
    "        a = file.read()\n",
    "        print(a)\n",
    "except FileNotFoundError as exception:\n",
    "    print(exception)"
   ]
  },
  {
   "cell_type": "code",
   "execution_count": 20,
   "id": "ad47f5a7-4358-4f64-bf80-d40fefefbc04",
   "metadata": {},
   "outputs": [
    {
     "name": "stdout",
     "output_type": "stream",
     "text": [
      "List of lines written to file\n"
     ]
    }
   ],
   "source": [
    "lines = [\"Smooth Operator\\n\", \"Simply Lovely\\n\", \"Must be the Water\\n\", \"Its Hammering Time\\n\"]\n",
    "with open(\"lines.txt\", \"w\") as file:\n",
    "    file.writelines(lines)\n",
    "print(\"List of lines written to file\")"
   ]
  },
  {
   "cell_type": "code",
   "execution_count": 18,
   "id": "ee60ada4-f4ef-40cb-904e-e06083760a89",
   "metadata": {},
   "outputs": [
    {
     "name": "stdout",
     "output_type": "stream",
     "text": [
      "Smooth Operator\n",
      "Simply Lovely\n",
      "Must be the Water\n",
      "Its Hammering Time\n",
      "\n"
     ]
    }
   ],
   "source": [
    "try:\n",
    "    with open(\"lines.txt\", \"r\") as file:\n",
    "        a = file.read()\n",
    "        print(a)\n",
    "except FileNotFoundError as exception:\n",
    "    print(exception)"
   ]
  },
  {
   "cell_type": "code",
   "execution_count": null,
   "id": "3b075bd5-10a8-40d9-9f83-917a80e83d4b",
   "metadata": {},
   "outputs": [],
   "source": []
  }
 ],
 "metadata": {
  "kernelspec": {
   "display_name": "Python 3 (ipykernel)",
   "language": "python",
   "name": "python3"
  },
  "language_info": {
   "codemirror_mode": {
    "name": "ipython",
    "version": 3
   },
   "file_extension": ".py",
   "mimetype": "text/x-python",
   "name": "python",
   "nbconvert_exporter": "python",
   "pygments_lexer": "ipython3",
   "version": "3.13.5"
  }
 },
 "nbformat": 4,
 "nbformat_minor": 5
}
