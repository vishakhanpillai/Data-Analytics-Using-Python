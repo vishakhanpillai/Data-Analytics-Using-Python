{
 "cells": [
  {
   "cell_type": "code",
   "execution_count": 3,
   "id": "e721b88d-424d-4ee4-93c3-0e7306b1aad5",
   "metadata": {},
   "outputs": [
    {
     "name": "stdout",
     "output_type": "stream",
     "text": [
      "Feature from Class A\n",
      "Feature from Class B\n"
     ]
    }
   ],
   "source": [
    "# Single Inheritance\n",
    "\n",
    "class A:\n",
    "    def feature_a(self):\n",
    "        print(\"Feature from Class A\")\n",
    "\n",
    "class B(A):\n",
    "    def feature_b(self):\n",
    "        print(\"Feature from Class B\")\n",
    "\n",
    "obj = B()\n",
    "\n",
    "obj.feature_a()\n",
    "obj.feature_b()"
   ]
  },
  {
   "cell_type": "code",
   "execution_count": 4,
   "id": "fcc0b450-867d-45da-9d82-1ee3547f2e4e",
   "metadata": {},
   "outputs": [
    {
     "name": "stdout",
     "output_type": "stream",
     "text": [
      "Person: John\n",
      "John is a teacher\n"
     ]
    }
   ],
   "source": [
    "class Person:\n",
    "    def __init__(self, name):\n",
    "        self.name = name\n",
    "    def display(self):\n",
    "        print(f\"Person: {self.name}\")\n",
    "class Teacher(Person):\n",
    "    def teach(self):\n",
    "        print(f\"{self.name} is a teacher\")\n",
    "\n",
    "t1 = Teacher(\"John\")\n",
    "t1.display()\n",
    "t1.teach()"
   ]
  },
  {
   "cell_type": "code",
   "execution_count": 6,
   "id": "a0e85b35-f1d3-4301-926d-7c5301f6984c",
   "metadata": {},
   "outputs": [
    {
     "name": "stdout",
     "output_type": "stream",
     "text": [
      "Employee Name: Arjun\n",
      "Arjun writes python code.\n"
     ]
    }
   ],
   "source": [
    "class Employee:\n",
    "    def __init__(self, name):\n",
    "        self.name = name\n",
    "    def show_details(self):\n",
    "        print(f\"Employee Name: {self.name}\")\n",
    "\n",
    "class Developer(Employee):\n",
    "    def write_code(self):\n",
    "        print(f\"{self.name} writes python code.\")\n",
    "\n",
    "dev = Developer(\"Arjun\")\n",
    "dev.show_details()\n",
    "dev.write_code()"
   ]
  },
  {
   "cell_type": "code",
   "execution_count": 7,
   "id": "ae400230-17ac-4262-93a8-9294bcd052a9",
   "metadata": {},
   "outputs": [
    {
     "name": "stdout",
     "output_type": "stream",
     "text": [
      "Scanning Document\n",
      "Printng Document\n",
      "Ready to use\n"
     ]
    }
   ],
   "source": [
    "# Multiple Inheritance - Class inherting from more than one parent\n",
    "\n",
    "class Scanner:\n",
    "    def scan(self):\n",
    "        print(\"Scanning Document\")\n",
    "\n",
    "class Printer:\n",
    "    def print_doc(self):\n",
    "        print(\"Printng Document\")\n",
    "\n",
    "class AllInOneMachine(Scanner, Printer):\n",
    "    def status(self):\n",
    "        print(\"Ready to use\")\n",
    "\n",
    "machine = AllInOneMachine()\n",
    "machine.scan()\n",
    "machine.print_doc()\n",
    "machine.status()"
   ]
  },
  {
   "cell_type": "code",
   "execution_count": 9,
   "id": "fdee7b15-bc31-44f4-ac8d-d3a36e32a6ca",
   "metadata": {},
   "outputs": [
    {
     "name": "stdout",
     "output_type": "stream",
     "text": [
      "Method from Class B\n"
     ]
    }
   ],
   "source": [
    "# Multiple Resolution Order\n",
    "class A:\n",
    "    def show(self):\n",
    "        print(\"Method from class A\")\n",
    "\n",
    "class B:\n",
    "    def show(self):\n",
    "        print(\"Method from Class B\")\n",
    "\n",
    "class C(B, A):\n",
    "    pass\n",
    "\n",
    "obj = C()\n",
    "obj.show()"
   ]
  },
  {
   "cell_type": "code",
   "execution_count": 11,
   "id": "be398554-3770-4fce-aaec-21bc57b28017",
   "metadata": {},
   "outputs": [
    {
     "name": "stdout",
     "output_type": "stream",
     "text": [
      "Method from class B\n"
     ]
    }
   ],
   "source": [
    "# Diamond Problem in Multiple Inheritance\n",
    "\n",
    "class A:\n",
    "    def show(self):\n",
    "        print(\"Method from class A\")\n",
    "class B(A):\n",
    "    def show(self):\n",
    "        print(\"Method from class B\")\n",
    "class C(A):\n",
    "    def show(self):\n",
    "        print(\"Method from class C\")\n",
    "\n",
    "class D(B,C):\n",
    "    pass\n",
    "\n",
    "obj = D()\n",
    "obj.show()"
   ]
  },
  {
   "cell_type": "code",
   "execution_count": 12,
   "id": "f57b7abc-6ba8-43d3-b692-21e0ee5656aa",
   "metadata": {},
   "outputs": [
    {
     "name": "stdout",
     "output_type": "stream",
     "text": [
      "This is the feature from Class A.\n",
      "This is the feature from Class B.\n",
      "This is the feature from Class C.\n"
     ]
    }
   ],
   "source": [
    "# Multilevel Inheritance\n",
    "\n",
    "class A:\n",
    "    def feature_a(self):\n",
    "        print(\"This is the feature from Class A.\")\n",
    "class B(A):\n",
    "    def feature_b(self):\n",
    "        print(\"This is the feature from Class B.\")\n",
    "\n",
    "class C(B):\n",
    "    def feature_c(self):\n",
    "        print(\"This is the feature from Class C.\")\n",
    "\n",
    "obj = C()\n",
    "obj.feature_a()\n",
    "obj.feature_b()\n",
    "obj.feature_c()"
   ]
  },
  {
   "cell_type": "code",
   "execution_count": 14,
   "id": "60979a50-6caf-4465-a5f8-d816cc854de1",
   "metadata": {},
   "outputs": [
    {
     "name": "stdout",
     "output_type": "stream",
     "text": [
      "Device is now ON\n",
      "The device is booting the operating system\n",
      "User login\n"
     ]
    }
   ],
   "source": [
    "class Device:\n",
    "    def power_on(self):\n",
    "        print(\"Device is now ON\")\n",
    "class Computer(Device):\n",
    "    def run_os(self):\n",
    "        print(\"The device is booting the operating system\")\n",
    "class Login(Computer):\n",
    "    def fold(self):\n",
    "        print(\"User login\")\n",
    "\n",
    "l1 = Login()\n",
    "l1.power_on()\n",
    "l1.run_os()\n",
    "l1.fold()"
   ]
  },
  {
   "cell_type": "code",
   "execution_count": 15,
   "id": "3c83f34e-5e67-4cad-a844-027d7aa18480",
   "metadata": {},
   "outputs": [
    {
     "name": "stdout",
     "output_type": "stream",
     "text": [
      "Engine started\n",
      "Driving a car\n",
      "Engine started\n",
      "Riding a bike\n"
     ]
    }
   ],
   "source": [
    "class Vehicle:\n",
    "    def start_engine(self):\n",
    "        print(\"Engine started\")\n",
    "\n",
    "class Car(Vehicle):\n",
    "    def drive(self):\n",
    "        print(\"Driving a car\")\n",
    "\n",
    "class Bike(Vehicle):\n",
    "    def ride(self):\n",
    "        print(\"Riding a bike\")\n",
    "\n",
    "c = Car()\n",
    "c.start_engine()\n",
    "c.drive()\n",
    "\n",
    "b = Bike()\n",
    "b.start_engine()\n",
    "b.ride()\n"
   ]
  },
  {
   "cell_type": "code",
   "execution_count": 16,
   "id": "d25c246f-ce71-4221-872d-715c517b305f",
   "metadata": {},
   "outputs": [
    {
     "name": "stdout",
     "output_type": "stream",
     "text": [
      "This is the feature from Class A.\n",
      "This is the feature from Class B.\n",
      "This is the feature from Class C.\n",
      "This is the feature from Class A.\n"
     ]
    }
   ],
   "source": [
    "# Hybrid Inheritance\n",
    "class A:\n",
    "    def feature_a(self):\n",
    "        print(\"This is the feature from Class A.\")\n",
    "class B(A):\n",
    "    def feature_b(self):\n",
    "        print(\"This is the feature from Class B.\")\n",
    "\n",
    "class C(A):\n",
    "    def feature_c(self):\n",
    "        print(\"This is the feature from Class C.\")\n",
    "\n",
    "class D(B,C):\n",
    "    def feature_d(self):\n",
    "        print(\"This is the feature from Class A.\")\n",
    "\n",
    "d = D()\n",
    "\n",
    "d.feature_a()\n",
    "d.feature_b()\n",
    "d.feature_c()\n",
    "d.feature_d()"
   ]
  },
  {
   "cell_type": "code",
   "execution_count": 17,
   "id": "18eb8b1e-032a-4f20-b27e-08575e7b50cc",
   "metadata": {},
   "outputs": [],
   "source": [
    "# Hybrid Inheritance\n",
    "class A:\n",
    "    def feature_a(self):\n",
    "        print(\"This is the feature from Class A.\")\n",
    "class B(A):\n",
    "    def feature_b(self):\n",
    "        print(\"This is the feature from Class B.\")\n",
    "\n",
    "class C(A):\n",
    "    def feature_c(self):\n",
    "        print(\"This is the feature from Class C.\")\n",
    "\n",
    "class D(B,C):\n",
    "    def feature_d(self):\n",
    "        print(\"This is the feature from Class A.\")\n",
    "\n",
    "d = D()\n",
    "b = B()\n",
    "c = C()\n",
    "a = A()"
   ]
  },
  {
   "cell_type": "code",
   "execution_count": null,
   "id": "dc0f1699-42ed-4bee-9df7-fecdbd014783",
   "metadata": {},
   "outputs": [],
   "source": []
  }
 ],
 "metadata": {
  "kernelspec": {
   "display_name": "Python 3 (ipykernel)",
   "language": "python",
   "name": "python3"
  },
  "language_info": {
   "codemirror_mode": {
    "name": "ipython",
    "version": 3
   },
   "file_extension": ".py",
   "mimetype": "text/x-python",
   "name": "python",
   "nbconvert_exporter": "python",
   "pygments_lexer": "ipython3",
   "version": "3.13.5"
  }
 },
 "nbformat": 4,
 "nbformat_minor": 5
}
