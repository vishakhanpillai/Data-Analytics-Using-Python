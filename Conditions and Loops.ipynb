{
 "cells": [
  {
   "cell_type": "code",
   "execution_count": 2,
   "id": "f8c91ab7-191f-436c-ab1a-9bcb8c7c8880",
   "metadata": {},
   "outputs": [
    {
     "name": "stdout",
     "output_type": "stream",
     "text": [
      "positive\n"
     ]
    }
   ],
   "source": [
    "a = 10\n",
    "if a > 0:\n",
    "    print(\"positive\")"
   ]
  },
  {
   "cell_type": "code",
   "execution_count": 5,
   "id": "411b33f8-93de-4cfc-af11-8a8d375ccb4f",
   "metadata": {},
   "outputs": [
    {
     "name": "stdin",
     "output_type": "stream",
     "text": [
      "Enter your number: 10\n"
     ]
    },
    {
     "name": "stdout",
     "output_type": "stream",
     "text": [
      "postive\n"
     ]
    }
   ],
   "source": [
    "a  = int(input(\"Enter your number:\"))\n",
    "if a > 0:\n",
    "    print(\"postive\")\n",
    "elif a < 0:\n",
    "    print(\"negative\")\n",
    "else:\n",
    "    print(\"Zero\")"
   ]
  },
  {
   "cell_type": "code",
   "execution_count": 6,
   "id": "32eb6770-b92d-4832-81e6-7a595657cbad",
   "metadata": {},
   "outputs": [
    {
     "name": "stdout",
     "output_type": "stream",
     "text": [
      "c is above a and b\n"
     ]
    }
   ],
   "source": [
    "#And\n",
    "a = 25\n",
    "b = 20\n",
    "c = 30\n",
    "if a > b and c > a:\n",
    "    print(\"c is above a and b\")"
   ]
  },
  {
   "cell_type": "code",
   "execution_count": 7,
   "id": "b55831c8-814a-4d0d-b6f6-c117347c9258",
   "metadata": {},
   "outputs": [
    {
     "name": "stdout",
     "output_type": "stream",
     "text": [
      "c is above a and b\n"
     ]
    }
   ],
   "source": [
    "#Abd\n",
    "a = 25\n",
    "b = 20\n",
    "c = 30\n",
    "if a > b or c < a:\n",
    "    print(\"c is above a and b\")"
   ]
  },
  {
   "cell_type": "code",
   "execution_count": 10,
   "id": "f5b38740-aefe-4bde-839b-e67e00456686",
   "metadata": {},
   "outputs": [
    {
     "name": "stdin",
     "output_type": "stream",
     "text": [
      "Enter first number: 10\n",
      "Enter second number: 20\n",
      "Enter third number: 30\n"
     ]
    },
    {
     "name": "stdout",
     "output_type": "stream",
     "text": [
      "30 is the greatest\n"
     ]
    }
   ],
   "source": [
    "# largest Among Three Numbers\n",
    "\n",
    "a = int(input(\"Enter first number:\"))\n",
    "b = int(input(\"Enter second number:\"))\n",
    "c = int(input(\"Enter third number:\"))\n",
    "\n",
    "if( a > b and a > c):\n",
    "    print(f\"{a} is the greatest\")\n",
    "elif( b > c):\n",
    "    print(f\"{c} is the greatest\")\n",
    "else:\n",
    "    print(f\"{c} is the greatest\")"
   ]
  },
  {
   "cell_type": "code",
   "execution_count": 11,
   "id": "d4a04d30-b8b1-49f8-9460-da739a37fe45",
   "metadata": {},
   "outputs": [
    {
     "name": "stdout",
     "output_type": "stream",
     "text": [
      "5\n",
      "6\n",
      "7\n",
      "8\n",
      "9\n"
     ]
    }
   ],
   "source": [
    "# While Loop\n",
    "\n",
    "a = 5\n",
    "while a < 10:\n",
    "    print(a)\n",
    "    a += 1"
   ]
  },
  {
   "cell_type": "code",
   "execution_count": 13,
   "id": "877f35f2-636b-44a5-a644-fb2ee3048da1",
   "metadata": {},
   "outputs": [
    {
     "name": "stdout",
     "output_type": "stream",
     "text": [
      "5\n",
      "6\n"
     ]
    }
   ],
   "source": [
    "# Break\n",
    "a = 5\n",
    "while a < 10:\n",
    "    print(a)\n",
    "    a += 1\n",
    "    if a == 7:\n",
    "        break"
   ]
  },
  {
   "cell_type": "code",
   "execution_count": 1,
   "id": "593ed14e-fa3b-4af6-a94b-c446f295a326",
   "metadata": {},
   "outputs": [
    {
     "name": "stdout",
     "output_type": "stream",
     "text": [
      "0\n",
      "1\n",
      "2\n",
      "4\n",
      "5\n",
      "6\n",
      "7\n",
      "8\n",
      "9\n"
     ]
    }
   ],
   "source": [
    "a = 0\n",
    "while a < 10:\n",
    "    if a == 3:\n",
    "        a += 1\n",
    "        continue\n",
    "    else:\n",
    "        print(a)\n",
    "        a += 1\n"
   ]
  },
  {
   "cell_type": "code",
   "execution_count": 3,
   "id": "0c65b5a7-bb6e-419f-bf66-170975fe2e91",
   "metadata": {},
   "outputs": [
    {
     "data": {
      "text/plain": [
       "'\\n    for loop syntax\\n\\n    for variable in sequence:\\n        #block of code\\n'"
      ]
     },
     "execution_count": 3,
     "metadata": {},
     "output_type": "execute_result"
    }
   ],
   "source": [
    "# for loop\n",
    "'''\n",
    "    for loop syntax\n",
    "\n",
    "    for variable in sequence:\n",
    "        #block of code\n",
    "'''"
   ]
  },
  {
   "cell_type": "code",
   "execution_count": 7,
   "id": "0d743d8d-0b3f-4f1b-b5f6-bee755d6d32b",
   "metadata": {},
   "outputs": [
    {
     "name": "stdout",
     "output_type": "stream",
     "text": [
      "white\n",
      "black\n",
      "Anomaly Detected! Immediate Action Required\n",
      "asian\n",
      "hispanic\n",
      "caucasian\n"
     ]
    }
   ],
   "source": [
    "race = [\"white\", \"black\", \"asian\", \"hispanic\", \"caucasian\"]\n",
    "for i in race:\n",
    "    print(i)\n",
    "    if i == \"black\":\n",
    "        print(\"Anomaly Detected! Immediate Action Required\")\n",
    "    "
   ]
  },
  {
   "cell_type": "code",
   "execution_count": null,
   "id": "992509e9-0071-4f24-9451-afdcb9fe5b7d",
   "metadata": {},
   "outputs": [],
   "source": []
  }
 ],
 "metadata": {
  "kernelspec": {
   "display_name": "Python 3 (ipykernel)",
   "language": "python",
   "name": "python3"
  },
  "language_info": {
   "codemirror_mode": {
    "name": "ipython",
    "version": 3
   },
   "file_extension": ".py",
   "mimetype": "text/x-python",
   "name": "python",
   "nbconvert_exporter": "python",
   "pygments_lexer": "ipython3",
   "version": "3.13.5"
  }
 },
 "nbformat": 4,
 "nbformat_minor": 5
}
