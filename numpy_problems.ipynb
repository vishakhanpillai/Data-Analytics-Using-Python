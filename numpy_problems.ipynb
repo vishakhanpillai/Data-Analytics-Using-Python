{
 "cells": [
  {
   "cell_type": "code",
   "execution_count": 3,
   "id": "e270a48f",
   "metadata": {},
   "outputs": [
    {
     "name": "stdout",
     "output_type": "stream",
     "text": [
      "Array: [ 1  2  3  4  5  6  7  8  9 10]\n",
      "Shape: (10,)\n",
      "Size: 10\n",
      "Data Type: int64\n"
     ]
    }
   ],
   "source": [
    "# 1. Create a numpy array of integers from 1 to 10 and print its shape, size and data type.\n",
    "import numpy as np\n",
    "arr = np.arange(1, 11)\n",
    "print(\"Array:\", arr)\n",
    "print(\"Shape:\", arr.shape)\n",
    "print(\"Size:\", arr.size)\n",
    "print(\"Data Type:\", arr.dtype)"
   ]
  },
  {
   "cell_type": "code",
   "execution_count": 5,
   "id": "eece8432",
   "metadata": {},
   "outputs": [
    {
     "name": "stdout",
     "output_type": "stream",
     "text": [
      "Array: [[1 2 3]\n",
      " [4 5 6]\n",
      " [7 8 9]]\n",
      "Dimensions: 2\n",
      "Shape: (3, 3)\n",
      "Sum of elements: 45\n"
     ]
    }
   ],
   "source": [
    "\"\"\" 2. Create a 2D numpy array of shape (3, 3) with values from 1 to 9 and display \n",
    "- number of dimensions\n",
    "- shape\n",
    "- sum of all elements \"\"\"\n",
    "\n",
    "array = np.arange(1, 10).reshape(3, 3)\n",
    "print(f\"Array: {array}\")\n",
    "print(f\"Dimensions: {array.ndim}\")\n",
    "print(f\"Shape: {array.shape}\")\n",
    "print(f\"Sum of elements: {array.sum()}\")"
   ]
  },
  {
   "cell_type": "code",
   "execution_count": null,
   "id": "2cb28999",
   "metadata": {},
   "outputs": [
    {
     "name": "stdout",
     "output_type": "stream",
     "text": [
      "The product is: [0 0 0 0 0]\n"
     ]
    }
   ],
   "source": [
    "\"\"\" 3. Create an array of 5 zeros and another of 5 ones. Multiply both and display the result.\"\"\"\n",
    "\n",
    "arr1 = np.array([0, 0, 0, 0, 0])\n",
    "arr2 = np.array([1, 1, 1, 1, 1])\n",
    "\n",
    "prod = np.multiply(arr1, arr2)\n",
    "\n",
    "print(f\"The product is: {prod}\")"
   ]
  },
  {
   "cell_type": "code",
   "execution_count": null,
   "id": "7da958c9",
   "metadata": {},
   "outputs": [
    {
     "name": "stdout",
     "output_type": "stream",
     "text": [
      "[20 22 24]\n"
     ]
    }
   ],
   "source": [
    "\"\"\" 4. Create an array of even numbers between 20 and 40. Use slicing to display the first 3\n",
    "elements.\"\"\"\n",
    "\n",
    "array = np.arange(20, 41, 2) # arange(start, stop, step)\n",
    "print(array[0:3])"
   ]
  },
  {
   "cell_type": "code",
   "execution_count": null,
   "id": "2429c4e0",
   "metadata": {},
   "outputs": [
    {
     "name": "stdout",
     "output_type": "stream",
     "text": [
      "1D Array: [ 0  1  2  3  4  5  6  7  8  9 10 11]\n",
      "2D Array: \n",
      " [[ 0  1  2  3]\n",
      " [ 4  5  6  7]\n",
      " [ 8  9 10 11]]\n",
      " Sum along axis 0 : [12 15 18 21]\n",
      " Sum along axis 1 : [ 6 22 38]\n"
     ]
    }
   ],
   "source": [
    "\"\"\" 5. Reshape a 1D array of 12 elements into a 3x4 matrix and calculate the sum along axis=0 and\n",
    "axis=1.\"\"\"\n",
    "\n",
    "myArr = np.arange(12)\n",
    "print(f\"1D Array: {myArr}\")\n",
    "\n",
    "newArr = myArr.reshape(3, 4)\n",
    "print(f\"2D Array: \\n {newArr}\")\n",
    "\n",
    "print(f\" Sum along axis 0 : {newArr.sum(axis=0)}\") # sum along y axis\n",
    "print(f\" Sum along axis 1 : {newArr.sum(axis=1)}\") # sum along x axis"
   ]
  },
  {
   "cell_type": "code",
   "execution_count": null,
   "id": "f5f72cf9",
   "metadata": {},
   "outputs": [
    {
     "name": "stdout",
     "output_type": "stream",
     "text": [
      "[[1. 0. 0. 0. 0.]\n",
      " [0. 1. 0. 0. 0.]\n",
      " [0. 0. 1. 0. 0.]\n",
      " [0. 0. 0. 1. 0.]\n",
      " [0. 0. 0. 0. 1.]]\n"
     ]
    }
   ],
   "source": [
    "\"\"\" 6. Create a 5x5 identity matrix using NumPy. \"\"\"\n",
    "identityMatrix = np.identity(5)\n",
    "print(identityMatrix)"
   ]
  },
  {
   "cell_type": "code",
   "execution_count": null,
   "id": "b8d2e663",
   "metadata": {},
   "outputs": [
    {
     "name": "stdout",
     "output_type": "stream",
     "text": [
      "The Array is [16 97 33 76 38 70 30 71 40 79]\n",
      "The Max Element is 97 at the index [1] and the Min Element is 16 at the index [0]\n"
     ]
    }
   ],
   "source": [
    "\"\"\" 7. Create a 1D array of 10 random integers between 1 and 100. Find the maximum and\n",
    "minimum values and their indices. \"\"\"\n",
    "\n",
    "from numpy import random\n",
    "\n",
    "a = np.random.randint(1, 101, size=10)\n",
    "print(f\"The Array is {a}\")\n",
    "maxIndex = np.where(a == a.max())\n",
    "minIndex = np.where(a == a.min())\n",
    "print(f\"The Max Element is {a.max()} at the index {maxIndex[0]} and the Min Element is {a.min()} at the index {minIndex[0]}\")"
   ]
  },
  {
   "cell_type": "code",
   "execution_count": 43,
   "id": "6524750b",
   "metadata": {},
   "outputs": [
    {
     "name": "stdout",
     "output_type": "stream",
     "text": [
      "[0.  0.2 0.4 0.6 0.8 1. ]\n",
      "[0.  0.2 0.4 0.6 0.8 1. ]\n"
     ]
    }
   ],
   "source": [
    "\"\"\" 8. Generate a NumPy array of 6 float numbers between 0 and 1 using linspace. Round the\n",
    "values to 2 decimal places.\"\"\"\n",
    "\n",
    "arr = np.linspace(0, 1, 6)\n",
    "print(arr)\n",
    "print(np.round(arr,2))"
   ]
  },
  {
   "cell_type": "code",
   "execution_count": 45,
   "id": "a4539f4c",
   "metadata": {},
   "outputs": [
    {
     "name": "stdout",
     "output_type": "stream",
     "text": [
      "Orginal Array: [1 2 3 2 4 3 5 1 6]\n",
      "Unique Array: [1 2 3 4 5 6]\n"
     ]
    }
   ],
   "source": [
    "\"\"\" 9. Create a NumPy array with some repeated values and remove the duplicates. \"\"\"\n",
    "arr = np.array([1, 2, 3, 2, 4, 3, 5, 1, 6])\n",
    "\n",
    "print(f\"Orginal Array: {arr}\")\n",
    "print(f\"Unique Array: {np.unique(arr)}\")"
   ]
  },
  {
   "cell_type": "code",
   "execution_count": null,
   "id": "d12123d0",
   "metadata": {},
   "outputs": [
    {
     "name": "stdout",
     "output_type": "stream",
     "text": [
      "Matrix 1:\n",
      " [[10 11 12]\n",
      " [13 14 15]\n",
      " [16 17 18]]\n",
      "Matrix 2:\n",
      " [[25 26 27]\n",
      " [28 29 30]\n",
      " [31 32 33]]\n",
      "Sum:\n",
      "[[35 37 39]\n",
      " [41 43 45]\n",
      " [47 49 51]]\n",
      "Element Wise Multiplication: \n",
      "[[250 286 324]\n",
      " [364 406 450]\n",
      " [496 544 594]]\n",
      "\n",
      " Matrix Multiplication:\n",
      " [[ 930  963  996]\n",
      " [1182 1224 1266]\n",
      " [1434 1485 1536]]\n"
     ]
    }
   ],
   "source": [
    "\"\"\"Create two 3x3 matrices and perform the following operations:\n",
    "● Matrix addition\n",
    "● Matrix multiplication\n",
    "● Element-wise multiplication\"\"\"\n",
    "\n",
    "mat1 = np.arange(10, 19).reshape(3, 3)\n",
    "mat2 = np.arange(25, 34).reshape(3, 3)\n",
    "\n",
    "print(\"Matrix 1:\\n\", mat1)\n",
    "print(\"Matrix 2:\\n\", mat2)\n",
    "\n",
    "print(f\"\\nSum:\\n{np.add(mat1, mat2)}\")\n",
    "print(f\"\\nElement Wise Multiplication: \\n{np.multiply(mat1, mat2)}\")\n",
    "print(f\"\\n Matrix Multiplication:\\n {np.dot(mat1, mat2)}\")\n"
   ]
  },
  {
   "cell_type": "code",
   "execution_count": null,
   "id": "e37455d5",
   "metadata": {},
   "outputs": [],
   "source": []
  }
 ],
 "metadata": {
  "kernelspec": {
   "display_name": "venv",
   "language": "python",
   "name": "python3"
  },
  "language_info": {
   "codemirror_mode": {
    "name": "ipython",
    "version": 3
   },
   "file_extension": ".py",
   "mimetype": "text/x-python",
   "name": "python",
   "nbconvert_exporter": "python",
   "pygments_lexer": "ipython3",
   "version": "3.13.5"
  }
 },
 "nbformat": 4,
 "nbformat_minor": 5
}
