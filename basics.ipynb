{
 "cells": [
  {
   "cell_type": "code",
   "execution_count": null,
   "id": "1df7f4f8-e709-4aa2-848e-5767c31bfcce",
   "metadata": {},
   "outputs": [],
   "source": [
    "a = input(\"Enter your name: \")\n",
    "print(\"Hello\", a, \"Welcome\")"
   ]
  },
  {
   "cell_type": "code",
   "execution_count": null,
   "id": "b6cddac7-85b4-42fa-ac01-afbd491b9727",
   "metadata": {},
   "outputs": [],
   "source": [
    "# Taking two values using split function\n",
    "x, y = input(\"Enter two values\").split()\n",
    "print(\"The value of x is: \", x)\n",
    "print(\"The value of y is: \", y)\n"
   ]
  },
  {
   "cell_type": "code",
   "execution_count": 10,
   "id": "68a6d571-a3cd-461a-ab49-f1edd60d1758",
   "metadata": {},
   "outputs": [
    {
     "data": {
      "text/plain": [
       "str"
      ]
     },
     "execution_count": 10,
     "metadata": {},
     "output_type": "execute_result"
    }
   ],
   "source": [
    "type(x)"
   ]
  },
  {
   "cell_type": "code",
   "execution_count": 8,
   "id": "5c220261-2ff0-4dee-af36-9252619d0d74",
   "metadata": {},
   "outputs": [
    {
     "name": "stdin",
     "output_type": "stream",
     "text": [
      "How many roses:  5\n"
     ]
    },
    {
     "name": "stdout",
     "output_type": "stream",
     "text": [
      "Roses:  5\n"
     ]
    }
   ],
   "source": [
    "# Taking input as int\n",
    "\n",
    "n = int(input(\"How many roses: \"))\n",
    "print(\"Roses: \", n)"
   ]
  },
  {
   "cell_type": "code",
   "execution_count": 9,
   "id": "96727adb-5a49-4b07-824e-888b580ed963",
   "metadata": {
    "scrolled": true
   },
   "outputs": [
    {
     "data": {
      "text/plain": [
       "int"
      ]
     },
     "execution_count": 9,
     "metadata": {},
     "output_type": "execute_result"
    }
   ],
   "source": [
    "type(n)"
   ]
  },
  {
   "cell_type": "code",
   "execution_count": 14,
   "id": "a209d6c5-41ab-4d64-a8e6-5e82b5dbb327",
   "metadata": {},
   "outputs": [
    {
     "name": "stdin",
     "output_type": "stream",
     "text": [
      "Price of each rose:  5\n"
     ]
    },
    {
     "name": "stdout",
     "output_type": "stream",
     "text": [
      "5.0\n"
     ]
    }
   ],
   "source": [
    "# Taking input as float\n",
    "price = float(input(\"Price of each rose: \"))\n",
    "print(price)"
   ]
  },
  {
   "cell_type": "code",
   "execution_count": 12,
   "id": "c1581d37-1ac9-4bca-bdff-521379d564fb",
   "metadata": {},
   "outputs": [
    {
     "data": {
      "text/plain": [
       "float"
      ]
     },
     "execution_count": 12,
     "metadata": {},
     "output_type": "execute_result"
    }
   ],
   "source": [
    "type(price)"
   ]
  },
  {
   "cell_type": "code",
   "execution_count": 17,
   "id": "c5079fed-7eb1-4672-85b5-1db7adf402ff",
   "metadata": {},
   "outputs": [
    {
     "name": "stdout",
     "output_type": "stream",
     "text": [
      "<class 'str'>\n",
      "<class 'int'>\n",
      "<class 'float'>\n",
      "<class 'tuple'>\n",
      "<class 'list'>\n",
      "<class 'dict'>\n"
     ]
    }
   ],
   "source": [
    "# Finding Object Types\n",
    "\n",
    "a = \"Hello world\"\n",
    "b = 10\n",
    "c = 11.22\n",
    "d = (\"Rajagiri\", \"College\", \"Of\", \"Social Sciences\")\n",
    "e = [\"Rajagiri\", \"College\", \"Of\", \"Social Sciences\"]\n",
    "f = {\"Rajagiri\" : 1, \"College\" : 2, \"Of Social Sciences\" : 3}\n",
    "\n",
    "print(type(a))\n",
    "print(type(b))\n",
    "print(type(c))\n",
    "print(type(d))\n",
    "print(type(e))\n",
    "print(type(f))"
   ]
  },
  {
   "cell_type": "code",
   "execution_count": 21,
   "id": "414abd7b-b023-409f-bd93-c1a56bc78b15",
   "metadata": {},
   "outputs": [
    {
     "name": "stdout",
     "output_type": "stream",
     "text": [
      "Amount: 150.7500\n"
     ]
    }
   ],
   "source": [
    "# Formatting the string using placeholder\n",
    "\n",
    "amount = 150.75\n",
    "print(\"Amount: {:.4f}\".format(amount))"
   ]
  },
  {
   "cell_type": "code",
   "execution_count": 24,
   "id": "63fc0504-352b-40d2-be07-61a7d4c31342",
   "metadata": {},
   "outputs": [
    {
     "name": "stdout",
     "output_type": "stream",
     "text": [
      "Python@R,C,S,S\n",
      "17:06:2025\n"
     ]
    }
   ],
   "source": [
    "# End Parameter with '@'\n",
    "print(\"Python\", end='@')\n",
    "\n",
    "# Seperating with Comma\n",
    "print('R', 'C', 'S', 'S', sep=',')\n",
    "\n",
    "# For Formatting a date\n",
    "print('17', '06', '2025', sep=':')"
   ]
  },
  {
   "cell_type": "code",
   "execution_count": 25,
   "id": "d4697ba5-1799-44b9-845b-00cb75ed0e0a",
   "metadata": {},
   "outputs": [
    {
     "name": "stdout",
     "output_type": "stream",
     "text": [
      "Hello, My name is john and I'm 23 years old.\n"
     ]
    }
   ],
   "source": [
    "# Using f strings\n",
    "name = \"john\"\n",
    "age = 23\n",
    "print(f\"Hello, My name is {name} and I'm {age} years old.\")"
   ]
  },
  {
   "cell_type": "code",
   "execution_count": 32,
   "id": "c2b8a796-7a5d-4494-8f75-e5d5301b0bd8",
   "metadata": {},
   "outputs": [
    {
     "name": "stdout",
     "output_type": "stream",
     "text": [
      "The Variablies are 20 and 10\n",
      "Addition: 30\n",
      "Subtraction: 10\n",
      "Multiplication: 200\n",
      "Divison: 2.0\n",
      "Floor Division: 2\n",
      "Modulus: 0\n",
      "Exponentiation: 10240000000000\n"
     ]
    }
   ],
   "source": [
    "# Operators in Python\n",
    "\n",
    "# Arthametic Operators\n",
    "a = 20\n",
    "b = 10\n",
    "\n",
    "print(f\"The Variablies are {a} and {b}\")\n",
    "\n",
    "# Addition\n",
    "print(\"Addition:\", a + b)\n",
    "\n",
    "# Subtraction\n",
    "print(\"Subtraction:\", a - b)\n",
    "\n",
    "# Multiplication\n",
    "print(\"Multiplication:\", a * b)\n",
    "\n",
    "#Division\n",
    "print(\"Divison:\", a / b)\n",
    "\n",
    "# Floor Division\n",
    "print(\"Floor Division:\", a // b)\n",
    "\n",
    "# Modulus\n",
    "print(\"Modulus:\", a % b)\n",
    "\n",
    "#Exponentiation\n",
    "print(\"Exponentiation:\", a**b)\n"
   ]
  },
  {
   "cell_type": "code",
   "execution_count": 34,
   "id": "c05bdd46-f522-4149-b1d6-106deb31a63a",
   "metadata": {},
   "outputs": [
    {
     "name": "stdout",
     "output_type": "stream",
     "text": [
      "False\n",
      "True\n",
      "False\n",
      "True\n",
      "False\n",
      "True\n"
     ]
    }
   ],
   "source": [
    "# Comparison Operators\n",
    "a = 13\n",
    "b = 33\n",
    "\n",
    "print(a > b)\n",
    "print(a < b)\n",
    "print(a == b)\n",
    "print(a != b)\n",
    "print(a >= b)\n",
    "print(a <= b)"
   ]
  },
  {
   "cell_type": "code",
   "execution_count": 36,
   "id": "8cec561e-57ea-4777-bc9c-f9bc9c6082cc",
   "metadata": {},
   "outputs": [
    {
     "name": "stdout",
     "output_type": "stream",
     "text": [
      "15\n",
      "30\n"
     ]
    }
   ],
   "source": [
    "# Assignment and add\n",
    "\n",
    "a = 5\n",
    "a += 10\n",
    "print(a)\n",
    "\n",
    "b = 10\n",
    "b += 20\n",
    "print(b)\n"
   ]
  },
  {
   "cell_type": "code",
   "execution_count": 37,
   "id": "41bb9d5c-88d9-4570-80d1-e0e99487412d",
   "metadata": {},
   "outputs": [
    {
     "name": "stdout",
     "output_type": "stream",
     "text": [
      "3\n"
     ]
    }
   ],
   "source": [
    "# Assignment and Subtract\n",
    "a = 5\n",
    "a -= 2\n",
    "print(a)"
   ]
  },
  {
   "cell_type": "code",
   "execution_count": 38,
   "id": "16fc2ccd-4893-4924-8870-e4ab59890cf8",
   "metadata": {},
   "outputs": [
    {
     "name": "stdout",
     "output_type": "stream",
     "text": [
      "True\n"
     ]
    }
   ],
   "source": [
    "# Logical Operators - AND\n",
    "\n",
    "a = True\n",
    "b = True\n",
    "\n",
    "print(a and b)"
   ]
  },
  {
   "cell_type": "code",
   "execution_count": 39,
   "id": "61d541e7-aa7d-4795-be2b-4ea5cf50c7a0",
   "metadata": {},
   "outputs": [
    {
     "name": "stdout",
     "output_type": "stream",
     "text": [
      "True\n"
     ]
    }
   ],
   "source": [
    "# Logical Operators - OR\n",
    "\n",
    "a = True\n",
    "b = False\n",
    "\n",
    "print(a or b)"
   ]
  },
  {
   "cell_type": "code",
   "execution_count": 40,
   "id": "c3d893ae-d09c-4ea2-bfbe-b35e707d1a94",
   "metadata": {},
   "outputs": [
    {
     "name": "stdout",
     "output_type": "stream",
     "text": [
      "False\n"
     ]
    }
   ],
   "source": [
    "# Logical Operators - NOT\n",
    "\n",
    "a = True\n",
    "print(not a)"
   ]
  },
  {
   "cell_type": "code",
   "execution_count": 45,
   "id": "103b7db5-2b31-41e6-93fb-604cf7a5586d",
   "metadata": {},
   "outputs": [
    {
     "data": {
      "text/plain": [
       "True"
      ]
     },
     "execution_count": 45,
     "metadata": {},
     "output_type": "execute_result"
    }
   ],
   "source": [
    "# Membership Operator\n",
    "\n",
    "# in Operator\n",
    "\n",
    "'a' in 'apple'\n",
    "5 in [1, 2, 3, 4, 5]\n"
   ]
  },
  {
   "cell_type": "code",
   "execution_count": 48,
   "id": "13d499e1-d587-4c9e-b991-b99f4b011940",
   "metadata": {},
   "outputs": [
    {
     "data": {
      "text/plain": [
       "True"
      ]
     },
     "execution_count": 48,
     "metadata": {},
     "output_type": "execute_result"
    }
   ],
   "source": [
    "# Membership Operator\n",
    "\n",
    "# not in Operator\n",
    "\n",
    "'z' not in 'apple'"
   ]
  },
  {
   "cell_type": "code",
   "execution_count": 50,
   "id": "190815c9-4148-4f56-8f40-160422861bbd",
   "metadata": {},
   "outputs": [
    {
     "name": "stdout",
     "output_type": "stream",
     "text": [
      "True\n",
      "False\n"
     ]
    }
   ],
   "source": [
    "# Identity Operator\n",
    "# is operator\n",
    "\n",
    "a = [1, 2, 3]\n",
    "b = a\n",
    "print(a is b) \n",
    "\n",
    "c = [1, 2, 3]\n",
    "print( a is c)"
   ]
  },
  {
   "cell_type": "code",
   "execution_count": 111,
   "id": "dc80e929-7d29-4440-916a-529c10a044a6",
   "metadata": {},
   "outputs": [
    {
     "data": {
      "text/plain": [
       "2114872873920"
      ]
     },
     "execution_count": 111,
     "metadata": {},
     "output_type": "execute_result"
    }
   ],
   "source": [
    "id(a)"
   ]
  },
  {
   "cell_type": "code",
   "execution_count": 112,
   "id": "e50f4300-5828-4011-aaa6-2d3bd308536e",
   "metadata": {},
   "outputs": [
    {
     "data": {
      "text/plain": [
       "2114872873920"
      ]
     },
     "execution_count": 112,
     "metadata": {},
     "output_type": "execute_result"
    }
   ],
   "source": [
    "id(b)"
   ]
  },
  {
   "cell_type": "code",
   "execution_count": 113,
   "id": "7d316c06-c72f-4411-97b7-10c65567fb96",
   "metadata": {},
   "outputs": [
    {
     "name": "stdout",
     "output_type": "stream",
     "text": [
      "True\n",
      "False\n"
     ]
    }
   ],
   "source": [
    "# is not operator\n",
    "\n",
    "a = 10\n",
    "b = 20\n",
    "print( a is not b)\n",
    "c = 10\n",
    "print(a is not c)"
   ]
  },
  {
   "cell_type": "code",
   "execution_count": 117,
   "id": "2bd8452d-5ece-41b9-8518-a89f34077265",
   "metadata": {},
   "outputs": [
    {
     "name": "stdout",
     "output_type": "stream",
     "text": [
      "Hello\n",
      "Python\n",
      "This is a\n",
      "Multiline String\n"
     ]
    }
   ],
   "source": [
    "# String Creation\n",
    "\n",
    "s1 = \"Hello\"\n",
    "s2 = \"Python\"\n",
    "s3 = \"\"\"This is a\n",
    "Multiline String\"\"\"\n",
    "\n",
    "print(s1)\n",
    "print(s2)\n",
    "print(s3)"
   ]
  },
  {
   "cell_type": "code",
   "execution_count": 120,
   "id": "18e211ff-fe30-4d33-8dc5-e910eab6de00",
   "metadata": {},
   "outputs": [
    {
     "name": "stdout",
     "output_type": "stream",
     "text": [
      "P\n",
      "y\n",
      "t\n",
      "n\n"
     ]
    }
   ],
   "source": [
    "# Accessing Characters(Indexing)\n",
    "\n",
    "s = \"Python\"\n",
    "print(s[0])\n",
    "print(s[1])\n",
    "print(s[2])\n",
    "print(s[-1]) #Prints from the last"
   ]
  },
  {
   "cell_type": "code",
   "execution_count": 6,
   "id": "401235df-2b40-4244-841f-de06923a0a46",
   "metadata": {},
   "outputs": [
    {
     "name": "stdout",
     "output_type": "stream",
     "text": [
      "Python\n",
      "Programming\n",
      "Python\n"
     ]
    }
   ],
   "source": [
    "# Slicing Strings\n",
    "s = \"Python Programming\"\n",
    "print(s[0:6])\n",
    "print(s[7:])\n",
    "print(s[:6])\n"
   ]
  },
  {
   "cell_type": "code",
   "execution_count": 11,
   "id": "f5dd5e7e-c536-4b7f-b134-4df775941e8b",
   "metadata": {},
   "outputs": [
    {
     "name": "stdout",
     "output_type": "stream",
     "text": [
      "Length of String is: 5\n",
      "Mission Impossible\n"
     ]
    }
   ],
   "source": [
    "# Strings Length\n",
    "\n",
    "s = \"Hello\"\n",
    "print(\"Length of String is:\", len(s))\n",
    "\n",
    "# String Concatenation\n",
    "\n",
    "first = \"Mission\"\n",
    "second = \"Impossible\"\n",
    "result = first + \" \" + second\n",
    "print(result)"
   ]
  },
  {
   "cell_type": "code",
   "execution_count": 12,
   "id": "49e8ff37-4620-484b-8765-e1b45b6ebe7a",
   "metadata": {},
   "outputs": [
    {
     "name": "stdout",
     "output_type": "stream",
     "text": [
      "hahahahaha\n"
     ]
    }
   ],
   "source": [
    "# String Repetition\n",
    "\n",
    "laugh = \"ha\"\n",
    "print(laugh * 5)"
   ]
  },
  {
   "cell_type": "code",
   "execution_count": 16,
   "id": "ed390137-86c7-4c0b-b275-a9c7f41c2362",
   "metadata": {},
   "outputs": [
    {
     "name": "stdout",
     "output_type": "stream",
     "text": [
      "PYTHON\n",
      "python\n"
     ]
    }
   ],
   "source": [
    "# String Methods - lower(), upper()\n",
    "\n",
    "s = \"python\"\n",
    "print(s.upper())\n",
    "print(s.lower())"
   ]
  },
  {
   "cell_type": "code",
   "execution_count": 24,
   "id": "34c69f67-7f33-4a65-920a-a60cf11e5e67",
   "metadata": {},
   "outputs": [
    {
     "name": "stdout",
     "output_type": "stream",
     "text": [
      "6\n",
      "32\n",
      "1\n",
      "9\n"
     ]
    }
   ],
   "source": [
    "#Built in functions of list\n",
    "\n",
    "lst = [1, 2, 5, 7, 8, 9]\n",
    "\n",
    "print(len(lst))\n",
    "\n",
    "print(sum(lst))\n",
    "\n",
    "print(min(lst))\n",
    "\n",
    "print(max(lst))"
   ]
  },
  {
   "cell_type": "code",
   "execution_count": 25,
   "id": "1125abca-4019-459b-bd5e-d0602aab75fe",
   "metadata": {},
   "outputs": [
    {
     "data": {
      "text/plain": [
       "(1, 2, 'Kerala', 'India', 1.23, True)"
      ]
     },
     "execution_count": 25,
     "metadata": {},
     "output_type": "execute_result"
    }
   ],
   "source": [
    "myTuple = (1, 2, \"Kerala\", \"India\", 1.23, True)\n",
    "myTuple\n",
    "\n",
    "T = () # Empty Tuple"
   ]
  },
  {
   "cell_type": "code",
   "execution_count": 26,
   "id": "baefceb7-3df5-44f9-91fe-cfee6197d2e3",
   "metadata": {},
   "outputs": [
    {
     "name": "stdout",
     "output_type": "stream",
     "text": [
      "(1, 2, 3)\n"
     ]
    }
   ],
   "source": [
    "#Convert a list of tuple\n",
    "T = tuple([1, 2, 3])\n",
    "print(T)"
   ]
  }
 ],
 "metadata": {
  "kernelspec": {
   "display_name": "Python 3 (ipykernel)",
   "language": "python",
   "name": "python3"
  },
  "language_info": {
   "codemirror_mode": {
    "name": "ipython",
    "version": 3
   },
   "file_extension": ".py",
   "mimetype": "text/x-python",
   "name": "python",
   "nbconvert_exporter": "python",
   "pygments_lexer": "ipython3",
   "version": "3.13.5"
  }
 },
 "nbformat": 4,
 "nbformat_minor": 5
}
