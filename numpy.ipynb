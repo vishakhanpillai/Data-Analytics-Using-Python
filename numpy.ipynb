{
 "cells": [
  {
   "cell_type": "code",
   "execution_count": 6,
   "id": "ed1c8c06-3ecc-4631-b69a-0678219e7cc8",
   "metadata": {},
   "outputs": [
    {
     "name": "stdout",
     "output_type": "stream",
     "text": [
      "Requirement already satisfied: numpy in d:\\development\\python\\jupyter-notebook\\venv\\lib\\site-packages (2.3.2)\n",
      "Note: you may need to restart the kernel to use updated packages.\n"
     ]
    },
    {
     "name": "stderr",
     "output_type": "stream",
     "text": [
      "\n",
      "[notice] A new release of pip is available: 25.1.1 -> 25.2\n",
      "[notice] To update, run: python.exe -m pip install --upgrade pip\n"
     ]
    }
   ],
   "source": [
    "pip install numpy"
   ]
  },
  {
   "cell_type": "code",
   "execution_count": 7,
   "id": "4ca5eb75-702b-4ad1-b652-96f47e363c15",
   "metadata": {},
   "outputs": [],
   "source": [
    "import numpy as np\n",
    "a = np.array(92)\n",
    "b = np.array([1, 2, 3, 4, 5])\n",
    "c = np.array([[1, 2, 3], [4, 5, 6]])\n",
    "x = np.array([[1, 2, 3], [4, 5, 6], [7, 8, 9]])"
   ]
  },
  {
   "cell_type": "code",
   "execution_count": 8,
   "id": "eeb18df5-382a-45ad-92cb-8b025c824843",
   "metadata": {},
   "outputs": [
    {
     "name": "stdout",
     "output_type": "stream",
     "text": [
      "92\n",
      "Dimension = 0\n"
     ]
    }
   ],
   "source": [
    "print(a)\n",
    "print(\"Dimension =\", a.ndim)"
   ]
  },
  {
   "cell_type": "code",
   "execution_count": 9,
   "id": "1cae6382-962a-4a18-96f9-a547414f7dd4",
   "metadata": {},
   "outputs": [
    {
     "name": "stdout",
     "output_type": "stream",
     "text": [
      "[1 2 3 4 5]\n",
      "Dimension = 1\n"
     ]
    }
   ],
   "source": [
    "print(b)\n",
    "print(\"Dimension =\", b.ndim)"
   ]
  },
  {
   "cell_type": "code",
   "execution_count": 10,
   "id": "fba67791-d982-48c3-b072-295df84e2240",
   "metadata": {},
   "outputs": [
    {
     "name": "stdout",
     "output_type": "stream",
     "text": [
      "[1. 2. 3.]\n"
     ]
    }
   ],
   "source": [
    "#dtype parameter\n",
    "\n",
    "import numpy as np\n",
    "a = np.array([1, 2, 3], dtype = float) # float , str\n",
    "\n",
    "print(a)"
   ]
  },
  {
   "cell_type": "code",
   "execution_count": 11,
   "id": "18d5636e-ab1e-443d-822e-a70fe7ecf2e5",
   "metadata": {},
   "outputs": [
    {
     "name": "stdout",
     "output_type": "stream",
     "text": [
      "c =\n",
      " [[1 2 3]\n",
      " [4 5 6]]\n"
     ]
    }
   ],
   "source": [
    "import numpy as np\n",
    "\n",
    "c = np.array([[1, 2, 3], [4, 5, 6]])\n",
    "print(\"c =\" + \"\\n\", c)"
   ]
  },
  {
   "cell_type": "code",
   "execution_count": 12,
   "id": "bcb892fc-37d2-40eb-ab89-0eaf550fbc34",
   "metadata": {},
   "outputs": [
    {
     "name": "stdout",
     "output_type": "stream",
     "text": [
      "[ 11  12  13  14  15  60  70  80  90 100]\n"
     ]
    }
   ],
   "source": [
    "import numpy as np\n",
    "x = np.array([11, 12, 13, 14, 15, 60, 70, 80, 90, 100])\n",
    "print(x)"
   ]
  },
  {
   "cell_type": "code",
   "execution_count": 13,
   "id": "df126c1e-54a5-403b-8ba8-4554fc8736e1",
   "metadata": {},
   "outputs": [
    {
     "name": "stdout",
     "output_type": "stream",
     "text": [
      "[14 14 12 90]\n"
     ]
    }
   ],
   "source": [
    "z = x[np.array([3, 3, 1, 8])] #location values\n",
    "print(z)"
   ]
  },
  {
   "cell_type": "code",
   "execution_count": 15,
   "id": "21653aec-3ee8-4740-a31d-ea8d02202dec",
   "metadata": {},
   "outputs": [
    {
     "data": {
      "text/plain": [
       "matrix([[ 1,  2,  3,  4,  5],\n",
       "        [ 5,  6,  7,  8,  9],\n",
       "        [ 2, 45, 32, 78, 65],\n",
       "        [ 3,  6,  8,  9,  2],\n",
       "        [66, 99, 88, 33, 22]])"
      ]
     },
     "execution_count": 15,
     "metadata": {},
     "output_type": "execute_result"
    }
   ],
   "source": [
    "d = [1, 2, 3, 4, 5]\n",
    "e = [5, 6, 7, 8, 9]\n",
    "f = [2, 45, 32, 78, 65]\n",
    "g = [3, 6, 8, 9, 2]\n",
    "h = [66, 99, 88, 33, 22]\n",
    "my_matrices = np.matrix([d, e, f, g, h])\n",
    "my_matrices"
   ]
  },
  {
   "cell_type": "code",
   "execution_count": 16,
   "id": "39c745c2-4cd9-4a37-999b-8fcb8dc2c042",
   "metadata": {},
   "outputs": [
    {
     "data": {
      "text/plain": [
       "matrix([[ 7,  8,  9],\n",
       "        [32, 78, 65],\n",
       "        [ 8,  9,  2]])"
      ]
     },
     "execution_count": 16,
     "metadata": {},
     "output_type": "execute_result"
    }
   ],
   "source": [
    "my_matrices[1:4, 2:5]"
   ]
  },
  {
   "cell_type": "code",
   "execution_count": null,
   "id": "d339f856-4058-4d26-b62b-59563674da91",
   "metadata": {},
   "outputs": [],
   "source": [
    "my_matrices[2;"
   ]
  }
 ],
 "metadata": {
  "kernelspec": {
   "display_name": "Python 3 (ipykernel)",
   "language": "python",
   "name": "python3"
  },
  "language_info": {
   "codemirror_mode": {
    "name": "ipython",
    "version": 3
   },
   "file_extension": ".py",
   "mimetype": "text/x-python",
   "name": "python",
   "nbconvert_exporter": "python",
   "pygments_lexer": "ipython3",
   "version": "3.13.5"
  }
 },
 "nbformat": 4,
 "nbformat_minor": 5
}
