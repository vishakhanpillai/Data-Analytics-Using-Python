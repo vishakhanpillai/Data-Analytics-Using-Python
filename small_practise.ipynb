{
 "cells": [
  {
   "cell_type": "code",
   "execution_count": 2,
   "id": "e15f73ad",
   "metadata": {},
   "outputs": [
    {
     "name": "stdout",
     "output_type": "stream",
     "text": [
      "Adult\n"
     ]
    }
   ],
   "source": [
    "#  Classify a person's age group: Child (< 13), Teenager (13-19), Adult (20-59), Senior (60+). \n",
    "\n",
    "age = int(input(\"Enter your age:\"))\n",
    "if(age < 13):\n",
    "    print(\"Child\")\n",
    "elif(age >= 13 and age <= 19):\n",
    "    print(\"Teenager\")\n",
    "elif(age >= 20 and age <= 59):\n",
    "    print(\"Adult\")\n",
    "else:\n",
    "    print(\"senior\")"
   ]
  },
  {
   "cell_type": "code",
   "execution_count": null,
   "id": "ecfcddc3",
   "metadata": {},
   "outputs": [
    {
     "name": "stdout",
     "output_type": "stream",
     "text": [
      "Your Ticket Price is: 10\n"
     ]
    }
   ],
   "source": [
    "age = int(input(\"Enter you age:\"))\n",
    "day = input(\"Enter the day:\").lower()\n",
    "\n",
    "price = 12 if age >= 18 else 8\n",
    "\n",
    "if(day == \"wednesday\"):\n",
    "    price = price - 2;\n",
    "\n",
    "print(f\"Your Ticket Price is: ${price}\")\n"
   ]
  },
  {
   "cell_type": "code",
   "execution_count": 10,
   "id": "4aaab784",
   "metadata": {},
   "outputs": [
    {
     "name": "stdout",
     "output_type": "stream",
     "text": [
      "F\n"
     ]
    }
   ],
   "source": [
    "score = int(input(\"Enter your score:\"))\n",
    "if(score in range(90, 101)):\n",
    "    print('A')\n",
    "elif(score in range(80, 90)):\n",
    "    print('B')\n",
    "elif(score in range(70, 80)):\n",
    "    print('C')\n",
    "elif(score in range(60, 70)):\n",
    "    print('D')\n",
    "else:\n",
    "    print('F')"
   ]
  },
  {
   "cell_type": "code",
   "execution_count": 1,
   "id": "398bfdc2",
   "metadata": {},
   "outputs": [
    {
     "name": "stdout",
     "output_type": "stream",
     "text": [
      "6\n"
     ]
    }
   ],
   "source": [
    "numbers = [1, -2, 3, -4, 5, 6, -7, -8, 9, 10]\n",
    "count = 0\n",
    "for i in numbers:\n",
    "    if i > 0:\n",
    "        count += 1\n",
    "print(count)"
   ]
  },
  {
   "cell_type": "code",
   "execution_count": 2,
   "id": "de41f024",
   "metadata": {},
   "outputs": [
    {
     "name": "stdout",
     "output_type": "stream",
     "text": [
      "30\n"
     ]
    }
   ],
   "source": [
    "n = int(input(\"Enter the limit:\"))\n",
    "sum  = 0\n",
    "for i in range(2, n+1):\n",
    "    if( i % 2 == 0):\n",
    "        sum = sum + i;\n",
    "\n",
    "print(sum)"
   ]
  },
  {
   "cell_type": "code",
   "execution_count": 8,
   "id": "a5afb01c",
   "metadata": {},
   "outputs": [
    {
     "name": "stdout",
     "output_type": "stream",
     "text": [
      "1 * 5 = 5\n",
      "2 * 5 = 10\n",
      "3 * 5 = 15\n",
      "4 * 5 = 20\n",
      "6 * 5 = 30\n",
      "7 * 5 = 35\n",
      "8 * 5 = 40\n",
      "9 * 5 = 45\n",
      "10 * 5 = 50\n"
     ]
    }
   ],
   "source": [
    "n = int(input(\"Enter the number:\"))\n",
    "for i in range(1, 11):\n",
    "    if( i == 5):\n",
    "        continue\n",
    "    print(f\"{i} * {n} = {i*n}\")\n",
    "    \n",
    "    "
   ]
  },
  {
   "cell_type": "code",
   "execution_count": 9,
   "id": "9b96c1fc",
   "metadata": {},
   "outputs": [
    {
     "name": "stdout",
     "output_type": "stream",
     "text": [
      "olleh\n"
     ]
    }
   ],
   "source": [
    "string = input(\"Enter the string:\")\n",
    "rev = \"\"\n",
    "for i in string:\n",
    "    rev = i + rev\n",
    "print(rev)"
   ]
  },
  {
   "cell_type": "code",
   "execution_count": 10,
   "id": "49381457",
   "metadata": {},
   "outputs": [
    {
     "name": "stdout",
     "output_type": "stream",
     "text": [
      "r\n"
     ]
    }
   ],
   "source": [
    "string = \"teeter\"\n",
    "for i in string:\n",
    "    if string.count(i) == 1:\n",
    "        print(i)\n",
    "        break"
   ]
  },
  {
   "cell_type": "code",
   "execution_count": null,
   "id": "0f9c95ab",
   "metadata": {},
   "outputs": [
    {
     "name": "stdout",
     "output_type": "stream",
     "text": [
      "120\n"
     ]
    }
   ],
   "source": [
    "num = int(input(\"Enter the number:\"))\n",
    "fact = 1\n",
    "\n",
    "i = 1\n",
    "while( i <= num):\n",
    "    fact = fact * i\n",
    "    i += 1\n",
    "    \n",
    "print(fact)"
   ]
  },
  {
   "cell_type": "code",
   "execution_count": 18,
   "id": "e4f91a54",
   "metadata": {},
   "outputs": [
    {
     "name": "stdout",
     "output_type": "stream",
     "text": [
      "You are free\n"
     ]
    }
   ],
   "source": [
    "while(True):\n",
    "    num = int(input(\"Enter a number: \"))\n",
    "    if( num in range(1, 10)):\n",
    "        print(\"You are free\")\n",
    "        break;\n"
   ]
  },
  {
   "cell_type": "code",
   "execution_count": 33,
   "id": "4218b5ed",
   "metadata": {},
   "outputs": [
    {
     "name": "stdout",
     "output_type": "stream",
     "text": [
      "Not Prime\n"
     ]
    }
   ],
   "source": [
    "num = int(input(\"Enter a number:\"))\n",
    "\n",
    "isPrime = True\n",
    "\n",
    "for i in range( 2, int(num ** 0.5) + 1 ):\n",
    "    if( num % i == 0):\n",
    "        isPrime = False\n",
    "        break\n",
    "\n",
    "if(isPrime):\n",
    "    print(\"Prime\")\n",
    "else:\n",
    "    print(\"Not Prime\")\n"
   ]
  },
  {
   "cell_type": "code",
   "execution_count": 34,
   "id": "7be83806",
   "metadata": {},
   "outputs": [
    {
     "name": "stdout",
     "output_type": "stream",
     "text": [
      "Duplicate\n"
     ]
    }
   ],
   "source": [
    "items = [\"apple\", \"banana\", \"orange\", \"apple\", \"mango\"]\n",
    "for i in items:\n",
    "    if items.count(i) > 1:\n",
    "        print(\"Duplicate\")\n",
    "        break;\n"
   ]
  },
  {
   "cell_type": "code",
   "execution_count": 37,
   "id": "90addf26",
   "metadata": {},
   "outputs": [
    {
     "name": "stdout",
     "output_type": "stream",
     "text": [
      "Attemp 0 Wait Time 1\n",
      "Attemp 1 Wait Time 2\n",
      "Attemp 2 Wait Time 4\n",
      "Attemp 3 Wait Time 8\n",
      "Attemp 4 Wait Time 16\n"
     ]
    }
   ],
   "source": [
    "import time\n",
    "\n",
    "wait_time = 1\n",
    "attempt = 0\n",
    "max_tries = 5\n",
    "\n",
    "while( attempt < max_tries):\n",
    "    print(f\"Attemp {attempt} Wait Time {wait_time}\")\n",
    "    time.sleep(wait_time)\n",
    "    wait_time = wait_time * 2\n",
    "    attempt = attempt + 1"
   ]
  }
 ],
 "metadata": {
  "kernelspec": {
   "display_name": "venv",
   "language": "python",
   "name": "python3"
  },
  "language_info": {
   "codemirror_mode": {
    "name": "ipython",
    "version": 3
   },
   "file_extension": ".py",
   "mimetype": "text/x-python",
   "name": "python",
   "nbconvert_exporter": "python",
   "pygments_lexer": "ipython3",
   "version": "3.13.5"
  }
 },
 "nbformat": 4,
 "nbformat_minor": 5
}
