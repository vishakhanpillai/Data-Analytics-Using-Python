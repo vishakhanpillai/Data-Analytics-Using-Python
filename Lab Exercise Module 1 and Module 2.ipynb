{
 "cells": [
  {
   "cell_type": "code",
   "execution_count": 18,
   "id": "44fbdc8e-50c9-4166-8819-1f686c37f371",
   "metadata": {},
   "outputs": [
    {
     "name": "stdin",
     "output_type": "stream",
     "text": [
      "Enter a number: 10\n"
     ]
    },
    {
     "name": "stdout",
     "output_type": "stream",
     "text": [
      "10 is a composite number\n"
     ]
    }
   ],
   "source": [
    "# 1. Write a program that checks if an entered number is prime\n",
    "import math\n",
    "\n",
    "n = int(input(\"Enter a number:\"))\n",
    "prime = True\n",
    "for i in range (2,int(math.sqrt(n)) + 1):\n",
    "    if n % i == 0:\n",
    "        prime = False\n",
    "        break;\n",
    "        \n",
    "if(prime):\n",
    "    print(f\"{n} is a prime number\")\n",
    "else:\n",
    "    print(f\"{n} is a composite number\")\n",
    "    "
   ]
  },
  {
   "cell_type": "code",
   "execution_count": 27,
   "id": "8f1568c0-fdd8-4ebe-a011-f7c0c9b22a35",
   "metadata": {},
   "outputs": [
    {
     "name": "stdin",
     "output_type": "stream",
     "text": [
      "Enter the number of rows: 5\n"
     ]
    },
    {
     "name": "stdout",
     "output_type": "stream",
     "text": [
      "    1 \n",
      "   1 2 \n",
      "  1 2 3 \n",
      " 1 2 3 4 \n",
      "1 2 3 4 5 \n"
     ]
    }
   ],
   "source": [
    "# 2. Write a program to print a pyramid of numbers using for loop\n",
    "\n",
    "n = int(input(\"Enter the number of rows:\"))\n",
    "for i in range( 1, n+1):\n",
    "    print(\" \" * (n-i), end=\"\")\n",
    "    for num in range(1, i+1):\n",
    "        print(num, end=\" \")\n",
    "    print()"
   ]
  }
 ],
 "metadata": {
  "kernelspec": {
   "display_name": "Python 3 (ipykernel)",
   "language": "python",
   "name": "python3"
  },
  "language_info": {
   "codemirror_mode": {
    "name": "ipython",
    "version": 3
   },
   "file_extension": ".py",
   "mimetype": "text/x-python",
   "name": "python",
   "nbconvert_exporter": "python",
   "pygments_lexer": "ipython3",
   "version": "3.13.5"
  }
 },
 "nbformat": 4,
 "nbformat_minor": 5
}
