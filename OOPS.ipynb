{
 "cells": [
  {
   "cell_type": "code",
   "execution_count": 3,
   "id": "4df425cd-d4ff-4d14-9b61-0a5ced087fb7",
   "metadata": {},
   "outputs": [
    {
     "name": "stdout",
     "output_type": "stream",
     "text": [
      "Name: Alice, Age: 21\n",
      "Name: Bob, Age: 22\n"
     ]
    }
   ],
   "source": [
    "class Student:\n",
    "    def __init__(self, name, age):\n",
    "        self.name = name\n",
    "        self.age = age\n",
    "    def display_info(self):\n",
    "        print(f\"Name: {self.name}, Age: {self.age}\")\n",
    "\n",
    "#Object Creation\n",
    "\n",
    "s1 = Student(\"Alice\", 21)\n",
    "s2 = Student(\"Bob\", 22)\n",
    "\n",
    "s1.display_info()\n",
    "s2.display_info()\n",
    "    "
   ]
  },
  {
   "cell_type": "code",
   "execution_count": 6,
   "id": "3d5425c3-2ad5-4155-be77-d9ee46ac5a42",
   "metadata": {},
   "outputs": [
    {
     "name": "stdout",
     "output_type": "stream",
     "text": [
      "My name is John and 25 years old\n"
     ]
    }
   ],
   "source": [
    "class Person:\n",
    "    def __init__(self, name, age):\n",
    "        self.name = name\n",
    "        self.age = age\n",
    "\n",
    "    def introduce(self):\n",
    "        print(f\"My name is {self.name} and {self.age} years old\")\n",
    "\n",
    "p1 = Person(\"John\", 25)\n",
    "p1.introduce()"
   ]
  },
  {
   "cell_type": "code",
   "execution_count": 9,
   "id": "d4272418-570c-418f-8b92-6714c42d64c1",
   "metadata": {},
   "outputs": [
    {
     "name": "stdout",
     "output_type": "stream",
     "text": [
      "This is a Toyota Supra.\n"
     ]
    }
   ],
   "source": [
    "class Car:\n",
    "    def __init__(self, brand, model):\n",
    "        self.brand  = brand\n",
    "        self.model = model\n",
    "\n",
    "    def details(self):\n",
    "        print(f\"This is a {self.brand} {self.model}.\")\n",
    "\n",
    "car = Car(\"Toyota\", \"Supra\")\n",
    "car.details()"
   ]
  },
  {
   "cell_type": "code",
   "execution_count": 12,
   "id": "70ecc035-8954-4e09-82d0-9c025ac665b1",
   "metadata": {},
   "outputs": [
    {
     "name": "stdout",
     "output_type": "stream",
     "text": [
      "Area of rectangle is 6\n"
     ]
    }
   ],
   "source": [
    "class Rectangle:\n",
    "    def __init__(self, length, breadth):\n",
    "        self.length = length\n",
    "        self.breadth = breadth\n",
    "\n",
    "    def area(self):\n",
    "        print(f\"Area of rectangle is {self.length * self.breadth}\")\n",
    "\n",
    "rect = Rectangle(2, 3)\n",
    "rect.area()"
   ]
  },
  {
   "cell_type": "code",
   "execution_count": null,
   "id": "411dac2b",
   "metadata": {},
   "outputs": [],
   "source": [
    "# Define a class Student with attributes name, roll_no, and grade. Create three student objects and print their data using a method show().  \n",
    "class Student:\n",
    "    def __init__(self, name , roll_no, grade):\n",
    "        self.name = name\n",
    "        self.roll_no = roll_no\n",
    "        self.grade = grade\n",
    "    \n",
    "    def show(self):\n",
    "        print(\"Name: \", self.name)\n",
    "        print(\"Roll-No: \", self.roll_no)\n",
    "        print(\"Grade: \", self.grade)\n",
    "\n",
    "s1= Student(\"Arjun\", 26, \"A+\")\n",
    "s1.show()"
   ]
  },
  {
   "cell_type": "code",
   "execution_count": 2,
   "id": "b870720a",
   "metadata": {},
   "outputs": [
    {
     "name": "stdout",
     "output_type": "stream",
     "text": [
      "Title:  Do Epic Shit\n",
      "Author:  Ankur Warikoo\n",
      "Price:  499\n"
     ]
    }
   ],
   "source": [
    "# Write a class Book with attributes title, author, and price. Use the constructor to initialize the values. Create an object with your favorite book details.\n",
    "\n",
    "class Book:\n",
    "    def __init__(self, title, author, price):\n",
    "        self.title = title\n",
    "        self.author = author\n",
    "        self.price = price\n",
    "    def show(self):\n",
    "        print(\"Title: \", self.title)\n",
    "        print(\"Author: \", self.author)\n",
    "        print(\"Price: \", self.price)\n",
    "\n",
    "b1 = Book(\"Do Epic Shit\", \"Ankur Warikoo\", 499)\n",
    "b1.show()\n"
   ]
  },
  {
   "cell_type": "code",
   "execution_count": null,
   "id": "8379e6e7",
   "metadata": {},
   "outputs": [
    {
     "name": "stdout",
     "output_type": "stream",
     "text": [
      "Mr Vishakhan, Your Account Balance is 15000\n",
      "Dear Mr Vishakhan, an amount of Rs.1000 has been deposited to your account\n",
      "Your balance is:  16000\n"
     ]
    }
   ],
   "source": [
    "# Create a class Account with attributes name and balance. Write a method deposit(amount) that adds money to balance. Create an object and deposit ₹1000.\n",
    "\n",
    "class Account:\n",
    "    def __init__(self, name, balance):\n",
    "        self.name = name\n",
    "        self.balance = balance\n",
    "\n",
    "    def show(self):\n",
    "        print(f\"Mr {self.name}, Your Account Balance is {self.balance}\")\n",
    "        \n",
    "    def deposit(self):\n",
    "        amt = int(input(\"Enter the amount you want to deposit:\"))\n",
    "        self.balance = self.balance + amt\n",
    "        print(f\"Dear Mr {self.name}, an amount of Rs.{amt} has been deposited to your account\")\n",
    "        print(\"Your balance is: \", self.balance)\n",
    "\n",
    "acc = Account(\"Vishakhan\", 15000)\n",
    "acc.show()\n",
    "acc.deposit()\n"
   ]
  },
  {
   "cell_type": "code",
   "execution_count": 4,
   "id": "4b4691f1",
   "metadata": {},
   "outputs": [
    {
     "name": "stdout",
     "output_type": "stream",
     "text": [
      "The lamp is now ON\n",
      "The lamp is now OFF\n",
      "The lamp is now ON\n"
     ]
    }
   ],
   "source": [
    "# Create a class Lamp with a method toggle() to switch the lamp between ON and OFF. Create a lamp object and call the method multiple times.\n",
    "class Lamp:\n",
    "    def __init__(self):\n",
    "        self.state = \"OFF\"\n",
    "\n",
    "    def toggle(self):\n",
    "        if self.state == \"OFF\":\n",
    "            self.state = \"ON\"\n",
    "        else:\n",
    "            self.state = \"OFF\"\n",
    "        print(f\"The lamp is now {self.state}\")\n",
    "\n",
    "lamp = Lamp()\n",
    "lamp.toggle()\n",
    "lamp.toggle()\n",
    "lamp.toggle()  "
   ]
  },
  {
   "cell_type": "code",
   "execution_count": 5,
   "id": "b077b194",
   "metadata": {},
   "outputs": [
    {
     "name": "stdout",
     "output_type": "stream",
     "text": [
      "Name: Alice, Salary: 50000\n",
      "Name: Bob, Salary: 60000\n",
      "Name: Charlie, Salary: 55000\n",
      "Name: David, Salary: 70000\n",
      "Name: Eve, Salary: 65000\n"
     ]
    }
   ],
   "source": [
    "# Create a class Employee with attributes name and salary. Create a list of 5 employees and display all names and salaries using a loop\n",
    "class Employee:\n",
    "    def __init__(self, name, salary):\n",
    "        self.name = name\n",
    "        self.salary = salary\n",
    "    \n",
    "    def show(self):\n",
    "        print(f\"Name: {self.name}, Salary: {self.salary}\")\n",
    "\n",
    "employees = [\n",
    "    Employee(\"Alice\", 50000),\n",
    "    Employee(\"Bob\", 60000),\n",
    "    Employee(\"Charlie\", 55000),\n",
    "    Employee(\"David\", 70000),\n",
    "    Employee(\"Eve\", 65000)\n",
    "]\n",
    "\n",
    "for i in employees:\n",
    "    i.show()"
   ]
  },
  {
   "cell_type": "code",
   "execution_count": 6,
   "id": "642bbd07",
   "metadata": {},
   "outputs": [
    {
     "name": "stdout",
     "output_type": "stream",
     "text": [
      "Old Model: Galaxy S22 Ultra\n",
      "New Model: Galaxy S25 Ultra\n"
     ]
    }
   ],
   "source": [
    "# Create a class MobilePhone with brand and model. Create an object. Change the model after creation using a method update_model(new_model). Show both old and new model names.\n",
    "class MobilePhone:\n",
    "    def __init__(self, brand, model):\n",
    "        self.brand = brand\n",
    "        self.model = model\n",
    "\n",
    "    def update_model(self, new_model):\n",
    "        print(f\"Old Model: {self.model}\")\n",
    "        self.model = new_model\n",
    "        print(f\"New Model: {self.model}\")\n",
    "\n",
    "phone = MobilePhone(\"Samsung\", \"Galaxy S22 Ultra\")\n",
    "phone.update_model(\"Galaxy S25 Ultra\")\n"
   ]
  }
 ],
 "metadata": {
  "kernelspec": {
   "display_name": "venv",
   "language": "python",
   "name": "python3"
  },
  "language_info": {
   "codemirror_mode": {
    "name": "ipython",
    "version": 3
   },
   "file_extension": ".py",
   "mimetype": "text/x-python",
   "name": "python",
   "nbconvert_exporter": "python",
   "pygments_lexer": "ipython3",
   "version": "3.13.5"
  }
 },
 "nbformat": 4,
 "nbformat_minor": 5
}
