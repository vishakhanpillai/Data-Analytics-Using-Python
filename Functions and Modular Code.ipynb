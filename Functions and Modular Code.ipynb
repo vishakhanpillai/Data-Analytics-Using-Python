{
 "cells": [
  {
   "cell_type": "code",
   "execution_count": 1,
   "id": "bfcba870-711e-46be-aa55-8000dfb8d5c6",
   "metadata": {},
   "outputs": [
    {
     "name": "stdout",
     "output_type": "stream",
     "text": [
      "Hello bob\n"
     ]
    }
   ],
   "source": [
    "def greet(name):\n",
    "    print(f\"Hello, {name}\")\n",
    "\n",
    "greet(\"Bob\")"
   ]
  },
  {
   "cell_type": "code",
   "execution_count": 2,
   "id": "760bb793-09d4-4af4-9c12-82e2560232a6",
   "metadata": {},
   "outputs": [
    {
     "name": "stdout",
     "output_type": "stream",
     "text": [
      "30\n"
     ]
    }
   ],
   "source": [
    "def add(a, b):\n",
    "    return a + b\n",
    "\n",
    "print(add(10, 20))"
   ]
  },
  {
   "cell_type": "code",
   "execution_count": 4,
   "id": "e4b169ac-0786-41ac-849c-f7b9358763e7",
   "metadata": {},
   "outputs": [
    {
     "name": "stdout",
     "output_type": "stream",
     "text": [
      "even\n"
     ]
    }
   ],
   "source": [
    "def isEven(num):\n",
    "    return \"True\" if num % 2 == 0 else \"False\"\n",
    "\n",
    "print(isEven(20))"
   ]
  },
  {
   "cell_type": "code",
   "execution_count": 8,
   "id": "ab584eae-2564-4193-81b8-2248e4729a92",
   "metadata": {},
   "outputs": [
    {
     "name": "stdout",
     "output_type": "stream",
     "text": [
      "A\n"
     ]
    }
   ],
   "source": [
    "def grade(score):\n",
    "    if score <=20:\n",
    "        print(\"F\")\n",
    "    elif score > 20 and score <= 40:\n",
    "        print(\"D\")\n",
    "    elif score > 40 and score <= 60:\n",
    "        print(\"C\")\n",
    "    elif score > 60 and score <= 80:\n",
    "        print(\"B\")\n",
    "    elif score > 80 and score <= 100:\n",
    "        print(\"A\")\n",
    "\n",
    "grade(90)"
   ]
  },
  {
   "cell_type": "code",
   "execution_count": 12,
   "id": "1ae29b5c-a212-4f72-81bb-6acc2fd244bf",
   "metadata": {},
   "outputs": [
    {
     "name": "stdout",
     "output_type": "stream",
     "text": [
      "25\n",
      "125\n"
     ]
    }
   ],
   "source": [
    "def power(base, exponent=2):\n",
    "    return base ** exponent\n",
    "\n",
    "print(power(5))\n",
    "print(power(5, 3))"
   ]
  },
  {
   "cell_type": "code",
   "execution_count": 16,
   "id": "15c35f32-ea49-484c-910f-6a8fcd852a25",
   "metadata": {},
   "outputs": [
    {
     "name": "stdout",
     "output_type": "stream",
     "text": [
      "4 * 1 = 4\n",
      "4 * 2 = 8\n",
      "4 * 3 = 12\n",
      "4 * 4 = 16\n",
      "4 * 5 = 20\n",
      "4 * 6 = 24\n",
      "4 * 7 = 28\n",
      "4 * 8 = 32\n",
      "4 * 9 = 36\n",
      "4 * 10 = 40\n"
     ]
    }
   ],
   "source": [
    "def mult(num):\n",
    "    for i in range(1, 11):\n",
    "        print(f\"{num} * {i} = {num * i}\")\n",
    "        i = i + 1\n",
    "mult(4)"
   ]
  },
  {
   "cell_type": "code",
   "execution_count": 1,
   "id": "218c3345-86d7-4e8a-aa34-980d1101032b",
   "metadata": {},
   "outputs": [
    {
     "name": "stdout",
     "output_type": "stream",
     "text": [
      "125\n"
     ]
    }
   ],
   "source": [
    "import modular\n",
    "\n",
    "print(modular.cube(5))"
   ]
  },
  {
   "cell_type": "code",
   "execution_count": 4,
   "id": "87991b7c-56b2-4a32-a518-91ec7b2ec427",
   "metadata": {},
   "outputs": [
    {
     "name": "stdout",
     "output_type": "stream",
     "text": [
      "28.259999999999998\n",
      "15\n",
      "24.0\n"
     ]
    }
   ],
   "source": [
    "import area as ar\n",
    "\n",
    "print(ar.circle(3))\n",
    "print(ar.rectangle(3, 5))\n",
    "print(ar.triangle(6, 8))"
   ]
  },
  {
   "cell_type": "code",
   "execution_count": null,
   "id": "e8c8c335-3050-4deb-99bd-40a85b40311a",
   "metadata": {},
   "outputs": [],
   "source": []
  }
 ],
 "metadata": {
  "kernelspec": {
   "display_name": "Python 3 (ipykernel)",
   "language": "python",
   "name": "python3"
  },
  "language_info": {
   "codemirror_mode": {
    "name": "ipython",
    "version": 3
   },
   "file_extension": ".py",
   "mimetype": "text/x-python",
   "name": "python",
   "nbconvert_exporter": "python",
   "pygments_lexer": "ipython3",
   "version": "3.13.5"
  }
 },
 "nbformat": 4,
 "nbformat_minor": 5
}
