{
 "cells": [
  {
   "cell_type": "code",
   "execution_count": 3,
   "id": "4df425cd-d4ff-4d14-9b61-0a5ced087fb7",
   "metadata": {},
   "outputs": [
    {
     "name": "stdout",
     "output_type": "stream",
     "text": [
      "Name: Alice, Age: 21\n",
      "Name: Bob, Age: 22\n"
     ]
    }
   ],
   "source": [
    "class Student:\n",
    "    def __init__(self, name, age):\n",
    "        self.name = name\n",
    "        self.age = age\n",
    "    def display_info(self):\n",
    "        print(f\"Name: {self.name}, Age: {self.age}\")\n",
    "\n",
    "#Object Creation\n",
    "\n",
    "s1 = Student(\"Alice\", 21)\n",
    "s2 = Student(\"Bob\", 22)\n",
    "\n",
    "s1.display_info()\n",
    "s2.display_info()\n",
    "    "
   ]
  },
  {
   "cell_type": "code",
   "execution_count": 6,
   "id": "3d5425c3-2ad5-4155-be77-d9ee46ac5a42",
   "metadata": {},
   "outputs": [
    {
     "name": "stdout",
     "output_type": "stream",
     "text": [
      "My name is John and 25 years old\n"
     ]
    }
   ],
   "source": [
    "class Person:\n",
    "    def __init__(self, name, age):\n",
    "        self.name = name\n",
    "        self.age = age\n",
    "\n",
    "    def introduce(self):\n",
    "        print(f\"My name is {self.name} and {self.age} years old\")\n",
    "\n",
    "p1 = Person(\"John\", 25)\n",
    "p1.introduce()"
   ]
  },
  {
   "cell_type": "code",
   "execution_count": 9,
   "id": "d4272418-570c-418f-8b92-6714c42d64c1",
   "metadata": {},
   "outputs": [
    {
     "name": "stdout",
     "output_type": "stream",
     "text": [
      "This is a Toyota Supra.\n"
     ]
    }
   ],
   "source": [
    "class Car:\n",
    "    def __init__(self, brand, model):\n",
    "        self.brand  = brand\n",
    "        self.model = model\n",
    "\n",
    "    def details(self):\n",
    "        print(f\"This is a {self.brand} {self.model}.\")\n",
    "\n",
    "car = Car(\"Toyota\", \"Supra\")\n",
    "car.details()"
   ]
  }
 ],
 "metadata": {
  "kernelspec": {
   "display_name": "Python 3 (ipykernel)",
   "language": "python",
   "name": "python3"
  },
  "language_info": {
   "codemirror_mode": {
    "name": "ipython",
    "version": 3
   },
   "file_extension": ".py",
   "mimetype": "text/x-python",
   "name": "python",
   "nbconvert_exporter": "python",
   "pygments_lexer": "ipython3",
   "version": "3.13.5"
  }
 },
 "nbformat": 4,
 "nbformat_minor": 5
}
